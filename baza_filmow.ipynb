{
 "metadata": {
  "language_info": {
   "codemirror_mode": {
    "name": "ipython",
    "version": 3
   },
   "file_extension": ".py",
   "mimetype": "text/x-python",
   "name": "python",
   "nbconvert_exporter": "python",
   "pygments_lexer": "ipython3",
   "version": "3.8.3-final"
  },
  "orig_nbformat": 2,
  "kernelspec": {
   "name": "python3",
   "display_name": "Python 3"
  }
 },
 "nbformat": 4,
 "nbformat_minor": 2,
 "cells": [
  {
   "source": [
    "### Zadanie: baza filmów"
   ],
   "cell_type": "markdown",
   "metadata": {}
  },
  {
   "cell_type": "code",
   "execution_count": 2,
   "metadata": {},
   "outputs": [
    {
     "output_type": "execute_result",
     "data": {
      "text/plain": [
       "      Unnamed: 0     budget  \\\n",
       "0              0  237000000   \n",
       "1              1  300000000   \n",
       "2              2  245000000   \n",
       "3              3  250000000   \n",
       "4              4  260000000   \n",
       "...          ...        ...   \n",
       "4798        4798     220000   \n",
       "4799        4799       9000   \n",
       "4800        4800          0   \n",
       "4801        4801          0   \n",
       "4802        4802          0   \n",
       "\n",
       "                                               homepage      id  \\\n",
       "0                           http://www.avatarmovie.com/   19995   \n",
       "1          http://disney.go.com/disneypictures/pirates/     285   \n",
       "2           http://www.sonypictures.com/movies/spectre/  206647   \n",
       "3                    http://www.thedarkknightrises.com/   49026   \n",
       "4                  http://movies.disney.com/john-carter   49529   \n",
       "...                                                 ...     ...   \n",
       "4798                                                NaN    9367   \n",
       "4799                                                NaN   72766   \n",
       "4800  http://www.hallmarkchannel.com/signedsealeddel...  231617   \n",
       "4801                        http://shanghaicalling.com/  126186   \n",
       "4802                                                NaN   25975   \n",
       "\n",
       "     original_language                            original_title  \\\n",
       "0                   en                                    Avatar   \n",
       "1                   en  Pirates of the Caribbean: At World's End   \n",
       "2                   en                                   Spectre   \n",
       "3                   en                     The Dark Knight Rises   \n",
       "4                   en                               John Carter   \n",
       "...                ...                                       ...   \n",
       "4798                es                               El Mariachi   \n",
       "4799                en                                 Newlyweds   \n",
       "4800                en                 Signed, Sealed, Delivered   \n",
       "4801                en                          Shanghai Calling   \n",
       "4802                en                         My Date with Drew   \n",
       "\n",
       "                                               overview  popularity  \\\n",
       "0     In the 22nd century, a paraplegic Marine is di...  150.437577   \n",
       "1     Captain Barbossa, long believed to be dead, ha...  139.082615   \n",
       "2     A cryptic message from Bond’s past sends him o...  107.376788   \n",
       "3     Following the death of District Attorney Harve...  112.312950   \n",
       "4     John Carter is a war-weary, former military ca...   43.926995   \n",
       "...                                                 ...         ...   \n",
       "4798  El Mariachi just wants to play his guitar and ...   14.269792   \n",
       "4799  A newlywed couple's honeymoon is upended by th...    0.642552   \n",
       "4800  \"Signed, Sealed, Delivered\" introduces a dedic...    1.444476   \n",
       "4801  When ambitious New York attorney Sam is sent t...    0.857008   \n",
       "4802  Ever since the second grade when he first saw ...    1.929883   \n",
       "\n",
       "     release_date     revenue  runtime    status  \\\n",
       "0      2009-12-10  2787965087    162.0  Released   \n",
       "1      2007-05-19   961000000    169.0  Released   \n",
       "2      2015-10-26   880674609    148.0  Released   \n",
       "3      2012-07-16  1084939099    165.0  Released   \n",
       "4      2012-03-07   284139100    132.0  Released   \n",
       "...           ...         ...      ...       ...   \n",
       "4798   1992-09-04     2040920     81.0  Released   \n",
       "4799   2011-12-26           0     85.0  Released   \n",
       "4800   2013-10-13           0    120.0  Released   \n",
       "4801   2012-05-03           0     98.0  Released   \n",
       "4802   2005-08-05           0     90.0  Released   \n",
       "\n",
       "                                                tagline  \\\n",
       "0                           Enter the World of Pandora.   \n",
       "1        At the end of the world, the adventure begins.   \n",
       "2                                 A Plan No One Escapes   \n",
       "3                                       The Legend Ends   \n",
       "4                  Lost in our world, found in another.   \n",
       "...                                                 ...   \n",
       "4798  He didn't come looking for trouble, but troubl...   \n",
       "4799  A newlywed couple's honeymoon is upended by th...   \n",
       "4800                                                NaN   \n",
       "4801                           A New Yorker in Shanghai   \n",
       "4802                                                NaN   \n",
       "\n",
       "                                         title  vote_average  vote_count  \\\n",
       "0                                       Avatar           7.2       11800   \n",
       "1     Pirates of the Caribbean: At World's End           6.9        4500   \n",
       "2                                      Spectre           6.3        4466   \n",
       "3                        The Dark Knight Rises           7.6        9106   \n",
       "4                                  John Carter           6.1        2124   \n",
       "...                                        ...           ...         ...   \n",
       "4798                               El Mariachi           6.6         238   \n",
       "4799                                 Newlyweds           5.9           5   \n",
       "4800                 Signed, Sealed, Delivered           7.0           6   \n",
       "4801                          Shanghai Calling           5.7           7   \n",
       "4802                         My Date with Drew           6.3          16   \n",
       "\n",
       "      genre_id  \n",
       "0         28.0  \n",
       "1         12.0  \n",
       "2         28.0  \n",
       "3         28.0  \n",
       "4         28.0  \n",
       "...        ...  \n",
       "4798      28.0  \n",
       "4799      35.0  \n",
       "4800      35.0  \n",
       "4801       NaN  \n",
       "4802      99.0  \n",
       "\n",
       "[4803 rows x 17 columns]"
      ],
      "text/html": "<div>\n<style scoped>\n    .dataframe tbody tr th:only-of-type {\n        vertical-align: middle;\n    }\n\n    .dataframe tbody tr th {\n        vertical-align: top;\n    }\n\n    .dataframe thead th {\n        text-align: right;\n    }\n</style>\n<table border=\"1\" class=\"dataframe\">\n  <thead>\n    <tr style=\"text-align: right;\">\n      <th></th>\n      <th>Unnamed: 0</th>\n      <th>budget</th>\n      <th>homepage</th>\n      <th>id</th>\n      <th>original_language</th>\n      <th>original_title</th>\n      <th>overview</th>\n      <th>popularity</th>\n      <th>release_date</th>\n      <th>revenue</th>\n      <th>runtime</th>\n      <th>status</th>\n      <th>tagline</th>\n      <th>title</th>\n      <th>vote_average</th>\n      <th>vote_count</th>\n      <th>genre_id</th>\n    </tr>\n  </thead>\n  <tbody>\n    <tr>\n      <th>0</th>\n      <td>0</td>\n      <td>237000000</td>\n      <td>http://www.avatarmovie.com/</td>\n      <td>19995</td>\n      <td>en</td>\n      <td>Avatar</td>\n      <td>In the 22nd century, a paraplegic Marine is di...</td>\n      <td>150.437577</td>\n      <td>2009-12-10</td>\n      <td>2787965087</td>\n      <td>162.0</td>\n      <td>Released</td>\n      <td>Enter the World of Pandora.</td>\n      <td>Avatar</td>\n      <td>7.2</td>\n      <td>11800</td>\n      <td>28.0</td>\n    </tr>\n    <tr>\n      <th>1</th>\n      <td>1</td>\n      <td>300000000</td>\n      <td>http://disney.go.com/disneypictures/pirates/</td>\n      <td>285</td>\n      <td>en</td>\n      <td>Pirates of the Caribbean: At World's End</td>\n      <td>Captain Barbossa, long believed to be dead, ha...</td>\n      <td>139.082615</td>\n      <td>2007-05-19</td>\n      <td>961000000</td>\n      <td>169.0</td>\n      <td>Released</td>\n      <td>At the end of the world, the adventure begins.</td>\n      <td>Pirates of the Caribbean: At World's End</td>\n      <td>6.9</td>\n      <td>4500</td>\n      <td>12.0</td>\n    </tr>\n    <tr>\n      <th>2</th>\n      <td>2</td>\n      <td>245000000</td>\n      <td>http://www.sonypictures.com/movies/spectre/</td>\n      <td>206647</td>\n      <td>en</td>\n      <td>Spectre</td>\n      <td>A cryptic message from Bond’s past sends him o...</td>\n      <td>107.376788</td>\n      <td>2015-10-26</td>\n      <td>880674609</td>\n      <td>148.0</td>\n      <td>Released</td>\n      <td>A Plan No One Escapes</td>\n      <td>Spectre</td>\n      <td>6.3</td>\n      <td>4466</td>\n      <td>28.0</td>\n    </tr>\n    <tr>\n      <th>3</th>\n      <td>3</td>\n      <td>250000000</td>\n      <td>http://www.thedarkknightrises.com/</td>\n      <td>49026</td>\n      <td>en</td>\n      <td>The Dark Knight Rises</td>\n      <td>Following the death of District Attorney Harve...</td>\n      <td>112.312950</td>\n      <td>2012-07-16</td>\n      <td>1084939099</td>\n      <td>165.0</td>\n      <td>Released</td>\n      <td>The Legend Ends</td>\n      <td>The Dark Knight Rises</td>\n      <td>7.6</td>\n      <td>9106</td>\n      <td>28.0</td>\n    </tr>\n    <tr>\n      <th>4</th>\n      <td>4</td>\n      <td>260000000</td>\n      <td>http://movies.disney.com/john-carter</td>\n      <td>49529</td>\n      <td>en</td>\n      <td>John Carter</td>\n      <td>John Carter is a war-weary, former military ca...</td>\n      <td>43.926995</td>\n      <td>2012-03-07</td>\n      <td>284139100</td>\n      <td>132.0</td>\n      <td>Released</td>\n      <td>Lost in our world, found in another.</td>\n      <td>John Carter</td>\n      <td>6.1</td>\n      <td>2124</td>\n      <td>28.0</td>\n    </tr>\n    <tr>\n      <th>...</th>\n      <td>...</td>\n      <td>...</td>\n      <td>...</td>\n      <td>...</td>\n      <td>...</td>\n      <td>...</td>\n      <td>...</td>\n      <td>...</td>\n      <td>...</td>\n      <td>...</td>\n      <td>...</td>\n      <td>...</td>\n      <td>...</td>\n      <td>...</td>\n      <td>...</td>\n      <td>...</td>\n      <td>...</td>\n    </tr>\n    <tr>\n      <th>4798</th>\n      <td>4798</td>\n      <td>220000</td>\n      <td>NaN</td>\n      <td>9367</td>\n      <td>es</td>\n      <td>El Mariachi</td>\n      <td>El Mariachi just wants to play his guitar and ...</td>\n      <td>14.269792</td>\n      <td>1992-09-04</td>\n      <td>2040920</td>\n      <td>81.0</td>\n      <td>Released</td>\n      <td>He didn't come looking for trouble, but troubl...</td>\n      <td>El Mariachi</td>\n      <td>6.6</td>\n      <td>238</td>\n      <td>28.0</td>\n    </tr>\n    <tr>\n      <th>4799</th>\n      <td>4799</td>\n      <td>9000</td>\n      <td>NaN</td>\n      <td>72766</td>\n      <td>en</td>\n      <td>Newlyweds</td>\n      <td>A newlywed couple's honeymoon is upended by th...</td>\n      <td>0.642552</td>\n      <td>2011-12-26</td>\n      <td>0</td>\n      <td>85.0</td>\n      <td>Released</td>\n      <td>A newlywed couple's honeymoon is upended by th...</td>\n      <td>Newlyweds</td>\n      <td>5.9</td>\n      <td>5</td>\n      <td>35.0</td>\n    </tr>\n    <tr>\n      <th>4800</th>\n      <td>4800</td>\n      <td>0</td>\n      <td>http://www.hallmarkchannel.com/signedsealeddel...</td>\n      <td>231617</td>\n      <td>en</td>\n      <td>Signed, Sealed, Delivered</td>\n      <td>\"Signed, Sealed, Delivered\" introduces a dedic...</td>\n      <td>1.444476</td>\n      <td>2013-10-13</td>\n      <td>0</td>\n      <td>120.0</td>\n      <td>Released</td>\n      <td>NaN</td>\n      <td>Signed, Sealed, Delivered</td>\n      <td>7.0</td>\n      <td>6</td>\n      <td>35.0</td>\n    </tr>\n    <tr>\n      <th>4801</th>\n      <td>4801</td>\n      <td>0</td>\n      <td>http://shanghaicalling.com/</td>\n      <td>126186</td>\n      <td>en</td>\n      <td>Shanghai Calling</td>\n      <td>When ambitious New York attorney Sam is sent t...</td>\n      <td>0.857008</td>\n      <td>2012-05-03</td>\n      <td>0</td>\n      <td>98.0</td>\n      <td>Released</td>\n      <td>A New Yorker in Shanghai</td>\n      <td>Shanghai Calling</td>\n      <td>5.7</td>\n      <td>7</td>\n      <td>NaN</td>\n    </tr>\n    <tr>\n      <th>4802</th>\n      <td>4802</td>\n      <td>0</td>\n      <td>NaN</td>\n      <td>25975</td>\n      <td>en</td>\n      <td>My Date with Drew</td>\n      <td>Ever since the second grade when he first saw ...</td>\n      <td>1.929883</td>\n      <td>2005-08-05</td>\n      <td>0</td>\n      <td>90.0</td>\n      <td>Released</td>\n      <td>NaN</td>\n      <td>My Date with Drew</td>\n      <td>6.3</td>\n      <td>16</td>\n      <td>99.0</td>\n    </tr>\n  </tbody>\n</table>\n<p>4803 rows × 17 columns</p>\n</div>"
     },
     "metadata": {},
     "execution_count": 2
    }
   ],
   "source": [
    "import pandas as pd\n",
    "movies = pd.read_csv('tmdb_movies.csv')\n",
    "movies"
   ]
  },
  {
   "cell_type": "code",
   "execution_count": 3,
   "metadata": {},
   "outputs": [
    {
     "output_type": "execute_result",
     "data": {
      "text/plain": [
       "pandas.core.frame.DataFrame"
      ]
     },
     "metadata": {},
     "execution_count": 3
    }
   ],
   "source": [
    "type(movies)"
   ]
  },
  {
   "source": [
    "1. Zwróć listę 10 najwyżej ocenianych filmów (vote_average), których liczba głosów (vote_count) jest większa od 3. kwartyla rozkładu liczby głosów."
   ],
   "cell_type": "markdown",
   "metadata": {}
  },
  {
   "cell_type": "code",
   "execution_count": 4,
   "metadata": {},
   "outputs": [
    {
     "output_type": "execute_result",
     "data": {
      "text/plain": [
       "      Unnamed: 0    budget                      homepage      id  \\\n",
       "3519        3519         0                           NaN   89861   \n",
       "4045        4045         0                           NaN   78373   \n",
       "4247        4247         1                           NaN  361505   \n",
       "4662        4662         0                           NaN   40963   \n",
       "3992        3992         0                           NaN  346081   \n",
       "2386        2386         0                           NaN   69848   \n",
       "1881        1881  25000000                           NaN     278   \n",
       "2970        2970  10500000                           NaN   88641   \n",
       "2796        2796         0                           NaN   43867   \n",
       "3337        3337   6000000  http://www.thegodfather.com/     238   \n",
       "\n",
       "     original_language            original_title  \\\n",
       "3519                en          Stiff Upper Lips   \n",
       "4045                en     Dancer, Texas Pop. 81   \n",
       "4247                en     Me You and Five Bucks   \n",
       "4662                en            Little Big Top   \n",
       "3992                en                 Sardaarji   \n",
       "2386                en            One Man's Hero   \n",
       "1881                en  The Shawshank Redemption   \n",
       "2970                en        There Goes My Baby   \n",
       "2796                en     The Prisoner of Zenda   \n",
       "3337                en             The Godfather   \n",
       "\n",
       "                                               overview  popularity  \\\n",
       "3519  Stiff Upper Lips is a broad parody of British ...    0.356495   \n",
       "4045  Four guys, best friends, have grown up togethe...    0.376662   \n",
       "4247  A womanizing yet lovable loser, Charlie, a wai...    0.094105   \n",
       "4662  An aging out of work clown returns to his smal...    0.092100   \n",
       "3992  A ghost hunter uses bottles to capture trouble...    0.296981   \n",
       "2386  One Man's Hero tells the little-known story of...    0.910529   \n",
       "1881  Framed in the 1940s for the double murder of h...  136.747729   \n",
       "2970  A group of high school seniors meets in the su...    0.037073   \n",
       "2796  An Englishman on a Ruritarian holiday must imp...    4.021389   \n",
       "3337  Spanning the years 1945 to 1955, a chronicle o...  143.659698   \n",
       "\n",
       "     release_date    revenue  runtime    status  \\\n",
       "3519   1998-06-12          0     99.0  Released   \n",
       "4045   1998-05-01     565592     97.0  Released   \n",
       "4247   2015-07-07          0     90.0  Released   \n",
       "4662   2006-01-01          0      0.0   Rumored   \n",
       "3992   2015-06-26          0      0.0  Released   \n",
       "2386   1999-08-02          0    121.0  Released   \n",
       "1881   1994-09-23   28341469    142.0  Released   \n",
       "2970   1994-09-02     123509     99.0  Released   \n",
       "2796   1937-09-03          0    101.0  Released   \n",
       "3337   1972-03-14  245066411    175.0  Released   \n",
       "\n",
       "                                                tagline  \\\n",
       "3519                                                NaN   \n",
       "4045       in the middle of nowhere they had everything   \n",
       "4247               A story about second, second chances   \n",
       "4662                                                NaN   \n",
       "3992                                                NaN   \n",
       "2386           One man's hero is another man's traitor.   \n",
       "1881  Fear can hold you prisoner. Hope can set you f...   \n",
       "2970                                                NaN   \n",
       "2796       The most thrilling swordfight ever filmed...   \n",
       "3337                         An offer you can't refuse.   \n",
       "\n",
       "                         title  vote_average  vote_count  genre_id  \n",
       "3519          Stiff Upper Lips          10.0           1      35.0  \n",
       "4045     Dancer, Texas Pop. 81          10.0           1      35.0  \n",
       "4247     Me You and Five Bucks          10.0           2   10749.0  \n",
       "4662            Little Big Top          10.0           1      35.0  \n",
       "3992                 Sardaarji           9.5           2       NaN  \n",
       "2386            One Man's Hero           9.3           2      37.0  \n",
       "1881  The Shawshank Redemption           8.5        8205      18.0  \n",
       "2970        There Goes My Baby           8.5           2      18.0  \n",
       "2796     The Prisoner of Zenda           8.4          11      12.0  \n",
       "3337             The Godfather           8.4        5893      18.0  "
      ],
      "text/html": "<div>\n<style scoped>\n    .dataframe tbody tr th:only-of-type {\n        vertical-align: middle;\n    }\n\n    .dataframe tbody tr th {\n        vertical-align: top;\n    }\n\n    .dataframe thead th {\n        text-align: right;\n    }\n</style>\n<table border=\"1\" class=\"dataframe\">\n  <thead>\n    <tr style=\"text-align: right;\">\n      <th></th>\n      <th>Unnamed: 0</th>\n      <th>budget</th>\n      <th>homepage</th>\n      <th>id</th>\n      <th>original_language</th>\n      <th>original_title</th>\n      <th>overview</th>\n      <th>popularity</th>\n      <th>release_date</th>\n      <th>revenue</th>\n      <th>runtime</th>\n      <th>status</th>\n      <th>tagline</th>\n      <th>title</th>\n      <th>vote_average</th>\n      <th>vote_count</th>\n      <th>genre_id</th>\n    </tr>\n  </thead>\n  <tbody>\n    <tr>\n      <th>3519</th>\n      <td>3519</td>\n      <td>0</td>\n      <td>NaN</td>\n      <td>89861</td>\n      <td>en</td>\n      <td>Stiff Upper Lips</td>\n      <td>Stiff Upper Lips is a broad parody of British ...</td>\n      <td>0.356495</td>\n      <td>1998-06-12</td>\n      <td>0</td>\n      <td>99.0</td>\n      <td>Released</td>\n      <td>NaN</td>\n      <td>Stiff Upper Lips</td>\n      <td>10.0</td>\n      <td>1</td>\n      <td>35.0</td>\n    </tr>\n    <tr>\n      <th>4045</th>\n      <td>4045</td>\n      <td>0</td>\n      <td>NaN</td>\n      <td>78373</td>\n      <td>en</td>\n      <td>Dancer, Texas Pop. 81</td>\n      <td>Four guys, best friends, have grown up togethe...</td>\n      <td>0.376662</td>\n      <td>1998-05-01</td>\n      <td>565592</td>\n      <td>97.0</td>\n      <td>Released</td>\n      <td>in the middle of nowhere they had everything</td>\n      <td>Dancer, Texas Pop. 81</td>\n      <td>10.0</td>\n      <td>1</td>\n      <td>35.0</td>\n    </tr>\n    <tr>\n      <th>4247</th>\n      <td>4247</td>\n      <td>1</td>\n      <td>NaN</td>\n      <td>361505</td>\n      <td>en</td>\n      <td>Me You and Five Bucks</td>\n      <td>A womanizing yet lovable loser, Charlie, a wai...</td>\n      <td>0.094105</td>\n      <td>2015-07-07</td>\n      <td>0</td>\n      <td>90.0</td>\n      <td>Released</td>\n      <td>A story about second, second chances</td>\n      <td>Me You and Five Bucks</td>\n      <td>10.0</td>\n      <td>2</td>\n      <td>10749.0</td>\n    </tr>\n    <tr>\n      <th>4662</th>\n      <td>4662</td>\n      <td>0</td>\n      <td>NaN</td>\n      <td>40963</td>\n      <td>en</td>\n      <td>Little Big Top</td>\n      <td>An aging out of work clown returns to his smal...</td>\n      <td>0.092100</td>\n      <td>2006-01-01</td>\n      <td>0</td>\n      <td>0.0</td>\n      <td>Rumored</td>\n      <td>NaN</td>\n      <td>Little Big Top</td>\n      <td>10.0</td>\n      <td>1</td>\n      <td>35.0</td>\n    </tr>\n    <tr>\n      <th>3992</th>\n      <td>3992</td>\n      <td>0</td>\n      <td>NaN</td>\n      <td>346081</td>\n      <td>en</td>\n      <td>Sardaarji</td>\n      <td>A ghost hunter uses bottles to capture trouble...</td>\n      <td>0.296981</td>\n      <td>2015-06-26</td>\n      <td>0</td>\n      <td>0.0</td>\n      <td>Released</td>\n      <td>NaN</td>\n      <td>Sardaarji</td>\n      <td>9.5</td>\n      <td>2</td>\n      <td>NaN</td>\n    </tr>\n    <tr>\n      <th>2386</th>\n      <td>2386</td>\n      <td>0</td>\n      <td>NaN</td>\n      <td>69848</td>\n      <td>en</td>\n      <td>One Man's Hero</td>\n      <td>One Man's Hero tells the little-known story of...</td>\n      <td>0.910529</td>\n      <td>1999-08-02</td>\n      <td>0</td>\n      <td>121.0</td>\n      <td>Released</td>\n      <td>One man's hero is another man's traitor.</td>\n      <td>One Man's Hero</td>\n      <td>9.3</td>\n      <td>2</td>\n      <td>37.0</td>\n    </tr>\n    <tr>\n      <th>1881</th>\n      <td>1881</td>\n      <td>25000000</td>\n      <td>NaN</td>\n      <td>278</td>\n      <td>en</td>\n      <td>The Shawshank Redemption</td>\n      <td>Framed in the 1940s for the double murder of h...</td>\n      <td>136.747729</td>\n      <td>1994-09-23</td>\n      <td>28341469</td>\n      <td>142.0</td>\n      <td>Released</td>\n      <td>Fear can hold you prisoner. Hope can set you f...</td>\n      <td>The Shawshank Redemption</td>\n      <td>8.5</td>\n      <td>8205</td>\n      <td>18.0</td>\n    </tr>\n    <tr>\n      <th>2970</th>\n      <td>2970</td>\n      <td>10500000</td>\n      <td>NaN</td>\n      <td>88641</td>\n      <td>en</td>\n      <td>There Goes My Baby</td>\n      <td>A group of high school seniors meets in the su...</td>\n      <td>0.037073</td>\n      <td>1994-09-02</td>\n      <td>123509</td>\n      <td>99.0</td>\n      <td>Released</td>\n      <td>NaN</td>\n      <td>There Goes My Baby</td>\n      <td>8.5</td>\n      <td>2</td>\n      <td>18.0</td>\n    </tr>\n    <tr>\n      <th>2796</th>\n      <td>2796</td>\n      <td>0</td>\n      <td>NaN</td>\n      <td>43867</td>\n      <td>en</td>\n      <td>The Prisoner of Zenda</td>\n      <td>An Englishman on a Ruritarian holiday must imp...</td>\n      <td>4.021389</td>\n      <td>1937-09-03</td>\n      <td>0</td>\n      <td>101.0</td>\n      <td>Released</td>\n      <td>The most thrilling swordfight ever filmed...</td>\n      <td>The Prisoner of Zenda</td>\n      <td>8.4</td>\n      <td>11</td>\n      <td>12.0</td>\n    </tr>\n    <tr>\n      <th>3337</th>\n      <td>3337</td>\n      <td>6000000</td>\n      <td>http://www.thegodfather.com/</td>\n      <td>238</td>\n      <td>en</td>\n      <td>The Godfather</td>\n      <td>Spanning the years 1945 to 1955, a chronicle o...</td>\n      <td>143.659698</td>\n      <td>1972-03-14</td>\n      <td>245066411</td>\n      <td>175.0</td>\n      <td>Released</td>\n      <td>An offer you can't refuse.</td>\n      <td>The Godfather</td>\n      <td>8.4</td>\n      <td>5893</td>\n      <td>18.0</td>\n    </tr>\n  </tbody>\n</table>\n</div>"
     },
     "metadata": {},
     "execution_count": 4
    }
   ],
   "source": [
    "movies.nlargest(10, 'vote_average')"
   ]
  },
  {
   "cell_type": "code",
   "execution_count": 20,
   "metadata": {},
   "outputs": [
    {
     "output_type": "execute_result",
     "data": {
      "text/plain": [
       "      Unnamed: 0    budget                      homepage   id  \\\n",
       "1881        1881  25000000                           NaN  278   \n",
       "3337        3337   6000000  http://www.thegodfather.com/  238   \n",
       "\n",
       "     original_language            original_title  \\\n",
       "1881                en  The Shawshank Redemption   \n",
       "3337                en             The Godfather   \n",
       "\n",
       "                                               overview  popularity  \\\n",
       "1881  Framed in the 1940s for the double murder of h...  136.747729   \n",
       "3337  Spanning the years 1945 to 1955, a chronicle o...  143.659698   \n",
       "\n",
       "     release_date    revenue  runtime    status  \\\n",
       "1881   1994-09-23   28341469    142.0  Released   \n",
       "3337   1972-03-14  245066411    175.0  Released   \n",
       "\n",
       "                                                tagline  \\\n",
       "1881  Fear can hold you prisoner. Hope can set you f...   \n",
       "3337                         An offer you can't refuse.   \n",
       "\n",
       "                         title  vote_average  vote_count  genre_id  \n",
       "1881  The Shawshank Redemption           8.5        8205      18.0  \n",
       "3337             The Godfather           8.4        5893      18.0  "
      ],
      "text/html": "<div>\n<style scoped>\n    .dataframe tbody tr th:only-of-type {\n        vertical-align: middle;\n    }\n\n    .dataframe tbody tr th {\n        vertical-align: top;\n    }\n\n    .dataframe thead th {\n        text-align: right;\n    }\n</style>\n<table border=\"1\" class=\"dataframe\">\n  <thead>\n    <tr style=\"text-align: right;\">\n      <th></th>\n      <th>Unnamed: 0</th>\n      <th>budget</th>\n      <th>homepage</th>\n      <th>id</th>\n      <th>original_language</th>\n      <th>original_title</th>\n      <th>overview</th>\n      <th>popularity</th>\n      <th>release_date</th>\n      <th>revenue</th>\n      <th>runtime</th>\n      <th>status</th>\n      <th>tagline</th>\n      <th>title</th>\n      <th>vote_average</th>\n      <th>vote_count</th>\n      <th>genre_id</th>\n    </tr>\n  </thead>\n  <tbody>\n    <tr>\n      <th>1881</th>\n      <td>1881</td>\n      <td>25000000</td>\n      <td>NaN</td>\n      <td>278</td>\n      <td>en</td>\n      <td>The Shawshank Redemption</td>\n      <td>Framed in the 1940s for the double murder of h...</td>\n      <td>136.747729</td>\n      <td>1994-09-23</td>\n      <td>28341469</td>\n      <td>142.0</td>\n      <td>Released</td>\n      <td>Fear can hold you prisoner. Hope can set you f...</td>\n      <td>The Shawshank Redemption</td>\n      <td>8.5</td>\n      <td>8205</td>\n      <td>18.0</td>\n    </tr>\n    <tr>\n      <th>3337</th>\n      <td>3337</td>\n      <td>6000000</td>\n      <td>http://www.thegodfather.com/</td>\n      <td>238</td>\n      <td>en</td>\n      <td>The Godfather</td>\n      <td>Spanning the years 1945 to 1955, a chronicle o...</td>\n      <td>143.659698</td>\n      <td>1972-03-14</td>\n      <td>245066411</td>\n      <td>175.0</td>\n      <td>Released</td>\n      <td>An offer you can't refuse.</td>\n      <td>The Godfather</td>\n      <td>8.4</td>\n      <td>5893</td>\n      <td>18.0</td>\n    </tr>\n  </tbody>\n</table>\n</div>"
     },
     "metadata": {},
     "execution_count": 20
    }
   ],
   "source": [
    "movies.nlargest(10, 'vote_average')[movies['vote_count'] > movies.vote_count.quantile(.75)]"
   ]
  },
  {
   "cell_type": "code",
   "execution_count": 26,
   "metadata": {},
   "outputs": [
    {
     "output_type": "execute_result",
     "data": {
      "text/plain": [
       "737.0"
      ]
     },
     "metadata": {},
     "execution_count": 26
    }
   ],
   "source": [
    "movies.vote_count.quantile(.75)"
   ]
  },
  {
   "cell_type": "code",
   "execution_count": 27,
   "metadata": {},
   "outputs": [
    {
     "output_type": "execute_result",
     "data": {
      "text/plain": [
       "      Unnamed: 0     budget                                      homepage  \\\n",
       "0              0  237000000                   http://www.avatarmovie.com/   \n",
       "1              1  300000000  http://disney.go.com/disneypictures/pirates/   \n",
       "2              2  245000000   http://www.sonypictures.com/movies/spectre/   \n",
       "3              3  250000000            http://www.thedarkknightrises.com/   \n",
       "4              4  260000000          http://movies.disney.com/john-carter   \n",
       "...          ...        ...                                           ...   \n",
       "4602        4602     350000                                           NaN   \n",
       "4639        4639     250000                                           NaN   \n",
       "4670        4670     400000                                           NaN   \n",
       "4672        4672     200000                                           NaN   \n",
       "4773        4773      27000          http://www.miramax.com/movie/clerks/   \n",
       "\n",
       "          id original_language                            original_title  \\\n",
       "0      19995                en                                    Avatar   \n",
       "1        285                en  Pirates of the Caribbean: At World's End   \n",
       "2     206647                en                                   Spectre   \n",
       "3      49026                en                     The Dark Knight Rises   \n",
       "4      49529                en                               John Carter   \n",
       "...      ...               ...                                       ...   \n",
       "4602     389                en                              12 Angry Men   \n",
       "4639     431                en                                      Cube   \n",
       "4670    9659                en                                   Mad Max   \n",
       "4672     391                it                   Per un pugno di dollari   \n",
       "4773    2292                en                                    Clerks   \n",
       "\n",
       "                                               overview  popularity  \\\n",
       "0     In the 22nd century, a paraplegic Marine is di...  150.437577   \n",
       "1     Captain Barbossa, long believed to be dead, ha...  139.082615   \n",
       "2     A cryptic message from Bond’s past sends him o...  107.376788   \n",
       "3     Following the death of District Attorney Harve...  112.312950   \n",
       "4     John Carter is a war-weary, former military ca...   43.926995   \n",
       "...                                                 ...         ...   \n",
       "4602  The defense and the prosecution have rested an...   59.259204   \n",
       "4639  Seven strangers are taken out of their daily l...   44.656151   \n",
       "4670  In a dystopian future Australia, a vicious bik...   33.142185   \n",
       "4672  The Man With No Name enters the Mexican villag...   38.771062   \n",
       "4773  Convenience and video store clerks Dante and R...   19.748658   \n",
       "\n",
       "     release_date     revenue  runtime    status  \\\n",
       "0      2009-12-10  2787965087    162.0  Released   \n",
       "1      2007-05-19   961000000    169.0  Released   \n",
       "2      2015-10-26   880674609    148.0  Released   \n",
       "3      2012-07-16  1084939099    165.0  Released   \n",
       "4      2012-03-07   284139100    132.0  Released   \n",
       "...           ...         ...      ...       ...   \n",
       "4602   1957-03-25     1000000     96.0  Released   \n",
       "4639   1997-09-09      501818     90.0  Released   \n",
       "4670   1979-04-12   100000000     93.0  Released   \n",
       "4672   1964-09-12    14500000     99.0  Released   \n",
       "4773   1994-09-13     3151130     92.0  Released   \n",
       "\n",
       "                                                tagline  \\\n",
       "0                           Enter the World of Pandora.   \n",
       "1        At the end of the world, the adventure begins.   \n",
       "2                                 A Plan No One Escapes   \n",
       "3                                       The Legend Ends   \n",
       "4                  Lost in our world, found in another.   \n",
       "...                                                 ...   \n",
       "4602   Life is in their hands. Death is on their minds.   \n",
       "4639     Don't look for a reason... Look for a way out.   \n",
       "4670                    The Maximum Force Of The Future   \n",
       "4672  In his own way he is perhaps, the most dangero...   \n",
       "4773  Just because they serve you doesn't mean they ...   \n",
       "\n",
       "                                         title  vote_average  vote_count  \\\n",
       "0                                       Avatar           7.2       11800   \n",
       "1     Pirates of the Caribbean: At World's End           6.9        4500   \n",
       "2                                      Spectre           6.3        4466   \n",
       "3                        The Dark Knight Rises           7.6        9106   \n",
       "4                                  John Carter           6.1        2124   \n",
       "...                                        ...           ...         ...   \n",
       "4602                              12 Angry Men           8.2        2078   \n",
       "4639                                      Cube           6.9        1069   \n",
       "4670                                   Mad Max           6.6        1213   \n",
       "4672                      A Fistful of Dollars           7.6         883   \n",
       "4773                                    Clerks           7.4         755   \n",
       "\n",
       "      genre_id  \n",
       "0         28.0  \n",
       "1         12.0  \n",
       "2         28.0  \n",
       "3         28.0  \n",
       "4         28.0  \n",
       "...        ...  \n",
       "4602      18.0  \n",
       "4639      53.0  \n",
       "4670      12.0  \n",
       "4672      37.0  \n",
       "4773      35.0  \n",
       "\n",
       "[1200 rows x 17 columns]"
      ],
      "text/html": "<div>\n<style scoped>\n    .dataframe tbody tr th:only-of-type {\n        vertical-align: middle;\n    }\n\n    .dataframe tbody tr th {\n        vertical-align: top;\n    }\n\n    .dataframe thead th {\n        text-align: right;\n    }\n</style>\n<table border=\"1\" class=\"dataframe\">\n  <thead>\n    <tr style=\"text-align: right;\">\n      <th></th>\n      <th>Unnamed: 0</th>\n      <th>budget</th>\n      <th>homepage</th>\n      <th>id</th>\n      <th>original_language</th>\n      <th>original_title</th>\n      <th>overview</th>\n      <th>popularity</th>\n      <th>release_date</th>\n      <th>revenue</th>\n      <th>runtime</th>\n      <th>status</th>\n      <th>tagline</th>\n      <th>title</th>\n      <th>vote_average</th>\n      <th>vote_count</th>\n      <th>genre_id</th>\n    </tr>\n  </thead>\n  <tbody>\n    <tr>\n      <th>0</th>\n      <td>0</td>\n      <td>237000000</td>\n      <td>http://www.avatarmovie.com/</td>\n      <td>19995</td>\n      <td>en</td>\n      <td>Avatar</td>\n      <td>In the 22nd century, a paraplegic Marine is di...</td>\n      <td>150.437577</td>\n      <td>2009-12-10</td>\n      <td>2787965087</td>\n      <td>162.0</td>\n      <td>Released</td>\n      <td>Enter the World of Pandora.</td>\n      <td>Avatar</td>\n      <td>7.2</td>\n      <td>11800</td>\n      <td>28.0</td>\n    </tr>\n    <tr>\n      <th>1</th>\n      <td>1</td>\n      <td>300000000</td>\n      <td>http://disney.go.com/disneypictures/pirates/</td>\n      <td>285</td>\n      <td>en</td>\n      <td>Pirates of the Caribbean: At World's End</td>\n      <td>Captain Barbossa, long believed to be dead, ha...</td>\n      <td>139.082615</td>\n      <td>2007-05-19</td>\n      <td>961000000</td>\n      <td>169.0</td>\n      <td>Released</td>\n      <td>At the end of the world, the adventure begins.</td>\n      <td>Pirates of the Caribbean: At World's End</td>\n      <td>6.9</td>\n      <td>4500</td>\n      <td>12.0</td>\n    </tr>\n    <tr>\n      <th>2</th>\n      <td>2</td>\n      <td>245000000</td>\n      <td>http://www.sonypictures.com/movies/spectre/</td>\n      <td>206647</td>\n      <td>en</td>\n      <td>Spectre</td>\n      <td>A cryptic message from Bond’s past sends him o...</td>\n      <td>107.376788</td>\n      <td>2015-10-26</td>\n      <td>880674609</td>\n      <td>148.0</td>\n      <td>Released</td>\n      <td>A Plan No One Escapes</td>\n      <td>Spectre</td>\n      <td>6.3</td>\n      <td>4466</td>\n      <td>28.0</td>\n    </tr>\n    <tr>\n      <th>3</th>\n      <td>3</td>\n      <td>250000000</td>\n      <td>http://www.thedarkknightrises.com/</td>\n      <td>49026</td>\n      <td>en</td>\n      <td>The Dark Knight Rises</td>\n      <td>Following the death of District Attorney Harve...</td>\n      <td>112.312950</td>\n      <td>2012-07-16</td>\n      <td>1084939099</td>\n      <td>165.0</td>\n      <td>Released</td>\n      <td>The Legend Ends</td>\n      <td>The Dark Knight Rises</td>\n      <td>7.6</td>\n      <td>9106</td>\n      <td>28.0</td>\n    </tr>\n    <tr>\n      <th>4</th>\n      <td>4</td>\n      <td>260000000</td>\n      <td>http://movies.disney.com/john-carter</td>\n      <td>49529</td>\n      <td>en</td>\n      <td>John Carter</td>\n      <td>John Carter is a war-weary, former military ca...</td>\n      <td>43.926995</td>\n      <td>2012-03-07</td>\n      <td>284139100</td>\n      <td>132.0</td>\n      <td>Released</td>\n      <td>Lost in our world, found in another.</td>\n      <td>John Carter</td>\n      <td>6.1</td>\n      <td>2124</td>\n      <td>28.0</td>\n    </tr>\n    <tr>\n      <th>...</th>\n      <td>...</td>\n      <td>...</td>\n      <td>...</td>\n      <td>...</td>\n      <td>...</td>\n      <td>...</td>\n      <td>...</td>\n      <td>...</td>\n      <td>...</td>\n      <td>...</td>\n      <td>...</td>\n      <td>...</td>\n      <td>...</td>\n      <td>...</td>\n      <td>...</td>\n      <td>...</td>\n      <td>...</td>\n    </tr>\n    <tr>\n      <th>4602</th>\n      <td>4602</td>\n      <td>350000</td>\n      <td>NaN</td>\n      <td>389</td>\n      <td>en</td>\n      <td>12 Angry Men</td>\n      <td>The defense and the prosecution have rested an...</td>\n      <td>59.259204</td>\n      <td>1957-03-25</td>\n      <td>1000000</td>\n      <td>96.0</td>\n      <td>Released</td>\n      <td>Life is in their hands. Death is on their minds.</td>\n      <td>12 Angry Men</td>\n      <td>8.2</td>\n      <td>2078</td>\n      <td>18.0</td>\n    </tr>\n    <tr>\n      <th>4639</th>\n      <td>4639</td>\n      <td>250000</td>\n      <td>NaN</td>\n      <td>431</td>\n      <td>en</td>\n      <td>Cube</td>\n      <td>Seven strangers are taken out of their daily l...</td>\n      <td>44.656151</td>\n      <td>1997-09-09</td>\n      <td>501818</td>\n      <td>90.0</td>\n      <td>Released</td>\n      <td>Don't look for a reason... Look for a way out.</td>\n      <td>Cube</td>\n      <td>6.9</td>\n      <td>1069</td>\n      <td>53.0</td>\n    </tr>\n    <tr>\n      <th>4670</th>\n      <td>4670</td>\n      <td>400000</td>\n      <td>NaN</td>\n      <td>9659</td>\n      <td>en</td>\n      <td>Mad Max</td>\n      <td>In a dystopian future Australia, a vicious bik...</td>\n      <td>33.142185</td>\n      <td>1979-04-12</td>\n      <td>100000000</td>\n      <td>93.0</td>\n      <td>Released</td>\n      <td>The Maximum Force Of The Future</td>\n      <td>Mad Max</td>\n      <td>6.6</td>\n      <td>1213</td>\n      <td>12.0</td>\n    </tr>\n    <tr>\n      <th>4672</th>\n      <td>4672</td>\n      <td>200000</td>\n      <td>NaN</td>\n      <td>391</td>\n      <td>it</td>\n      <td>Per un pugno di dollari</td>\n      <td>The Man With No Name enters the Mexican villag...</td>\n      <td>38.771062</td>\n      <td>1964-09-12</td>\n      <td>14500000</td>\n      <td>99.0</td>\n      <td>Released</td>\n      <td>In his own way he is perhaps, the most dangero...</td>\n      <td>A Fistful of Dollars</td>\n      <td>7.6</td>\n      <td>883</td>\n      <td>37.0</td>\n    </tr>\n    <tr>\n      <th>4773</th>\n      <td>4773</td>\n      <td>27000</td>\n      <td>http://www.miramax.com/movie/clerks/</td>\n      <td>2292</td>\n      <td>en</td>\n      <td>Clerks</td>\n      <td>Convenience and video store clerks Dante and R...</td>\n      <td>19.748658</td>\n      <td>1994-09-13</td>\n      <td>3151130</td>\n      <td>92.0</td>\n      <td>Released</td>\n      <td>Just because they serve you doesn't mean they ...</td>\n      <td>Clerks</td>\n      <td>7.4</td>\n      <td>755</td>\n      <td>35.0</td>\n    </tr>\n  </tbody>\n</table>\n<p>1200 rows × 17 columns</p>\n</div>"
     },
     "metadata": {},
     "execution_count": 27
    }
   ],
   "source": [
    "movies[movies['vote_count'] > movies.vote_count.quantile(.75)]"
   ]
  },
  {
   "cell_type": "code",
   "execution_count": null,
   "metadata": {},
   "outputs": [],
   "source": []
  },
  {
   "source": [
    "2. Pogrupuj tabelę w taki sposób, aby otrzymać średni przychód (revenue) oraz średni budżet (budget) w danym roku dla filmów opublikowanych od 2010 (włącznie) do 2016 roku (włącznie). Następnie na tej podstawie stwórz wykres, w którym średnie przychody są wykresem kolumnowym, a średnie przychody wykresem liniowym na tych samych osiach. Sformatuj odpowiednio oś X oraz oś Y. Dodaj tytuł wykresu, oraz legendę, która znajduje się w prawym górnym rogu płótna, lecz poza obszarem osi."
   ],
   "cell_type": "markdown",
   "metadata": {}
  },
  {
   "cell_type": "code",
   "execution_count": 29,
   "metadata": {},
   "outputs": [
    {
     "output_type": "execute_result",
     "data": {
      "text/plain": [
       "'2009-12-10'"
      ]
     },
     "metadata": {},
     "execution_count": 29
    }
   ],
   "source": [
    "movies.loc[0]['release_date']"
   ]
  },
  {
   "cell_type": "code",
   "execution_count": 30,
   "metadata": {},
   "outputs": [
    {
     "output_type": "execute_result",
     "data": {
      "text/plain": [
       "str"
      ]
     },
     "metadata": {},
     "execution_count": 30
    }
   ],
   "source": [
    "type(movies.loc[0]['release_date'])"
   ]
  },
  {
   "cell_type": "code",
   "execution_count": 33,
   "metadata": {},
   "outputs": [
    {
     "output_type": "execute_result",
     "data": {
      "text/plain": [
       "0      2009-12-10\n",
       "1      2007-05-19\n",
       "2      2015-10-26\n",
       "3      2012-07-16\n",
       "4      2012-03-07\n",
       "          ...    \n",
       "4798   1992-09-04\n",
       "4799   2011-12-26\n",
       "4800   2013-10-13\n",
       "4801   2012-05-03\n",
       "4802   2005-08-05\n",
       "Name: release_date, Length: 4803, dtype: datetime64[ns]"
      ]
     },
     "metadata": {},
     "execution_count": 33
    }
   ],
   "source": [
    "pd.to_datetime(movies['release_date'])"
   ]
  },
  {
   "cell_type": "code",
   "execution_count": 44,
   "metadata": {},
   "outputs": [
    {
     "output_type": "execute_result",
     "data": {
      "text/plain": [
       "Timestamp('2009-12-10 00:00:00')"
      ]
     },
     "metadata": {},
     "execution_count": 44
    }
   ],
   "source": [
    "pd.to_datetime(movies['release_date'])[0]"
   ]
  },
  {
   "cell_type": "code",
   "execution_count": 45,
   "metadata": {},
   "outputs": [
    {
     "output_type": "execute_result",
     "data": {
      "text/plain": [
       "pandas._libs.tslibs.timestamps.Timestamp"
      ]
     },
     "metadata": {},
     "execution_count": 45
    }
   ],
   "source": [
    "type(pd.to_datetime(movies['release_date']).loc[0])"
   ]
  },
  {
   "cell_type": "code",
   "execution_count": 43,
   "metadata": {},
   "outputs": [
    {
     "output_type": "execute_result",
     "data": {
      "text/plain": [
       "0       2009.0\n",
       "1       2007.0\n",
       "2       2015.0\n",
       "3       2012.0\n",
       "4       2012.0\n",
       "         ...  \n",
       "4798    1992.0\n",
       "4799    2011.0\n",
       "4800    2013.0\n",
       "4801    2012.0\n",
       "4802    2005.0\n",
       "Name: release_date, Length: 4803, dtype: float64"
      ]
     },
     "metadata": {},
     "execution_count": 43
    }
   ],
   "source": [
    "pd.to_datetime(movies['release_date']).dt.year"
   ]
  },
  {
   "cell_type": "code",
   "execution_count": 46,
   "metadata": {},
   "outputs": [
    {
     "output_type": "execute_result",
     "data": {
      "text/plain": [
       "release_date\n",
       "1916.0    8.394751e+06\n",
       "1925.0    2.200000e+07\n",
       "1927.0    6.504220e+05\n",
       "1929.0    2.179000e+06\n",
       "1930.0    8.000000e+06\n",
       "              ...     \n",
       "2013.0    1.013485e+08\n",
       "2014.0    1.013466e+08\n",
       "2015.0    1.054399e+08\n",
       "2016.0    1.390496e+08\n",
       "2017.0    0.000000e+00\n",
       "Name: revenue, Length: 90, dtype: float64"
      ]
     },
     "metadata": {},
     "execution_count": 46
    }
   ],
   "source": [
    "mean_revenue = movies.groupby(pd.to_datetime(movies['release_date']).dt.year)['revenue'].mean()\n",
    "mean_revenue"
   ]
  },
  {
   "cell_type": "code",
   "execution_count": 47,
   "metadata": {},
   "outputs": [
    {
     "output_type": "execute_result",
     "data": {
      "text/plain": [
       "                   revenue\n",
       "release_date              \n",
       "1916.0        8.394751e+06\n",
       "1925.0        2.200000e+07\n",
       "1927.0        6.504220e+05\n",
       "1929.0        2.179000e+06\n",
       "1930.0        8.000000e+06\n",
       "...                    ...\n",
       "2013.0        1.013485e+08\n",
       "2014.0        1.013466e+08\n",
       "2015.0        1.054399e+08\n",
       "2016.0        1.390496e+08\n",
       "2017.0        0.000000e+00\n",
       "\n",
       "[90 rows x 1 columns]"
      ],
      "text/html": "<div>\n<style scoped>\n    .dataframe tbody tr th:only-of-type {\n        vertical-align: middle;\n    }\n\n    .dataframe tbody tr th {\n        vertical-align: top;\n    }\n\n    .dataframe thead th {\n        text-align: right;\n    }\n</style>\n<table border=\"1\" class=\"dataframe\">\n  <thead>\n    <tr style=\"text-align: right;\">\n      <th></th>\n      <th>revenue</th>\n    </tr>\n    <tr>\n      <th>release_date</th>\n      <th></th>\n    </tr>\n  </thead>\n  <tbody>\n    <tr>\n      <th>1916.0</th>\n      <td>8.394751e+06</td>\n    </tr>\n    <tr>\n      <th>1925.0</th>\n      <td>2.200000e+07</td>\n    </tr>\n    <tr>\n      <th>1927.0</th>\n      <td>6.504220e+05</td>\n    </tr>\n    <tr>\n      <th>1929.0</th>\n      <td>2.179000e+06</td>\n    </tr>\n    <tr>\n      <th>1930.0</th>\n      <td>8.000000e+06</td>\n    </tr>\n    <tr>\n      <th>...</th>\n      <td>...</td>\n    </tr>\n    <tr>\n      <th>2013.0</th>\n      <td>1.013485e+08</td>\n    </tr>\n    <tr>\n      <th>2014.0</th>\n      <td>1.013466e+08</td>\n    </tr>\n    <tr>\n      <th>2015.0</th>\n      <td>1.054399e+08</td>\n    </tr>\n    <tr>\n      <th>2016.0</th>\n      <td>1.390496e+08</td>\n    </tr>\n    <tr>\n      <th>2017.0</th>\n      <td>0.000000e+00</td>\n    </tr>\n  </tbody>\n</table>\n<p>90 rows × 1 columns</p>\n</div>"
     },
     "metadata": {},
     "execution_count": 47
    }
   ],
   "source": [
    "mean_revenue = pd.DataFrame(mean_revenue)\n",
    "mean_revenue"
   ]
  },
  {
   "cell_type": "code",
   "execution_count": 49,
   "metadata": {},
   "outputs": [
    {
     "output_type": "execute_result",
     "data": {
      "text/plain": [
       "                   revenue\n",
       "release_date              \n",
       "2010.0        9.043811e+07\n",
       "2011.0        9.200413e+07\n",
       "2012.0        1.160659e+08\n",
       "2013.0        1.013485e+08\n",
       "2014.0        1.013466e+08\n",
       "2015.0        1.054399e+08\n",
       "2016.0        1.390496e+08"
      ],
      "text/html": "<div>\n<style scoped>\n    .dataframe tbody tr th:only-of-type {\n        vertical-align: middle;\n    }\n\n    .dataframe tbody tr th {\n        vertical-align: top;\n    }\n\n    .dataframe thead th {\n        text-align: right;\n    }\n</style>\n<table border=\"1\" class=\"dataframe\">\n  <thead>\n    <tr style=\"text-align: right;\">\n      <th></th>\n      <th>revenue</th>\n    </tr>\n    <tr>\n      <th>release_date</th>\n      <th></th>\n    </tr>\n  </thead>\n  <tbody>\n    <tr>\n      <th>2010.0</th>\n      <td>9.043811e+07</td>\n    </tr>\n    <tr>\n      <th>2011.0</th>\n      <td>9.200413e+07</td>\n    </tr>\n    <tr>\n      <th>2012.0</th>\n      <td>1.160659e+08</td>\n    </tr>\n    <tr>\n      <th>2013.0</th>\n      <td>1.013485e+08</td>\n    </tr>\n    <tr>\n      <th>2014.0</th>\n      <td>1.013466e+08</td>\n    </tr>\n    <tr>\n      <th>2015.0</th>\n      <td>1.054399e+08</td>\n    </tr>\n    <tr>\n      <th>2016.0</th>\n      <td>1.390496e+08</td>\n    </tr>\n  </tbody>\n</table>\n</div>"
     },
     "metadata": {},
     "execution_count": 49
    }
   ],
   "source": [
    "mean_revenue = mean_revenue[(mean_revenue.index>=2010)&(mean_revenue.index<=2016)]\n",
    "mean_revenue"
   ]
  },
  {
   "cell_type": "code",
   "execution_count": 50,
   "metadata": {},
   "outputs": [
    {
     "output_type": "execute_result",
     "data": {
      "text/plain": [
       "release_date\n",
       "1916.0    3.859070e+05\n",
       "1925.0    2.450000e+05\n",
       "1927.0    9.262000e+07\n",
       "1929.0    1.895000e+05\n",
       "1930.0    3.950000e+06\n",
       "              ...     \n",
       "2013.0    3.552329e+07\n",
       "2014.0    3.095989e+07\n",
       "2015.0    3.113216e+07\n",
       "2016.0    4.570327e+07\n",
       "2017.0    0.000000e+00\n",
       "Name: budget, Length: 90, dtype: float64"
      ]
     },
     "metadata": {},
     "execution_count": 50
    }
   ],
   "source": [
    "mean_budget = movies.groupby(pd.to_datetime(movies['release_date']).dt.year)['budget'].mean()\n",
    "mean_budget"
   ]
  },
  {
   "cell_type": "code",
   "execution_count": 51,
   "metadata": {},
   "outputs": [
    {
     "output_type": "execute_result",
     "data": {
      "text/plain": [
       "                    budget\n",
       "release_date              \n",
       "1916.0        3.859070e+05\n",
       "1925.0        2.450000e+05\n",
       "1927.0        9.262000e+07\n",
       "1929.0        1.895000e+05\n",
       "1930.0        3.950000e+06\n",
       "...                    ...\n",
       "2013.0        3.552329e+07\n",
       "2014.0        3.095989e+07\n",
       "2015.0        3.113216e+07\n",
       "2016.0        4.570327e+07\n",
       "2017.0        0.000000e+00\n",
       "\n",
       "[90 rows x 1 columns]"
      ],
      "text/html": "<div>\n<style scoped>\n    .dataframe tbody tr th:only-of-type {\n        vertical-align: middle;\n    }\n\n    .dataframe tbody tr th {\n        vertical-align: top;\n    }\n\n    .dataframe thead th {\n        text-align: right;\n    }\n</style>\n<table border=\"1\" class=\"dataframe\">\n  <thead>\n    <tr style=\"text-align: right;\">\n      <th></th>\n      <th>budget</th>\n    </tr>\n    <tr>\n      <th>release_date</th>\n      <th></th>\n    </tr>\n  </thead>\n  <tbody>\n    <tr>\n      <th>1916.0</th>\n      <td>3.859070e+05</td>\n    </tr>\n    <tr>\n      <th>1925.0</th>\n      <td>2.450000e+05</td>\n    </tr>\n    <tr>\n      <th>1927.0</th>\n      <td>9.262000e+07</td>\n    </tr>\n    <tr>\n      <th>1929.0</th>\n      <td>1.895000e+05</td>\n    </tr>\n    <tr>\n      <th>1930.0</th>\n      <td>3.950000e+06</td>\n    </tr>\n    <tr>\n      <th>...</th>\n      <td>...</td>\n    </tr>\n    <tr>\n      <th>2013.0</th>\n      <td>3.552329e+07</td>\n    </tr>\n    <tr>\n      <th>2014.0</th>\n      <td>3.095989e+07</td>\n    </tr>\n    <tr>\n      <th>2015.0</th>\n      <td>3.113216e+07</td>\n    </tr>\n    <tr>\n      <th>2016.0</th>\n      <td>4.570327e+07</td>\n    </tr>\n    <tr>\n      <th>2017.0</th>\n      <td>0.000000e+00</td>\n    </tr>\n  </tbody>\n</table>\n<p>90 rows × 1 columns</p>\n</div>"
     },
     "metadata": {},
     "execution_count": 51
    }
   ],
   "source": [
    "mean_budget = pd.DataFrame(mean_budget)\n",
    "mean_budget"
   ]
  },
  {
   "cell_type": "code",
   "execution_count": 52,
   "metadata": {},
   "outputs": [
    {
     "output_type": "execute_result",
     "data": {
      "text/plain": [
       "                    budget\n",
       "release_date              \n",
       "2010.0        3.449541e+07\n",
       "2011.0        3.477232e+07\n",
       "2012.0        3.492203e+07\n",
       "2013.0        3.552329e+07\n",
       "2014.0        3.095989e+07\n",
       "2015.0        3.113216e+07\n",
       "2016.0        4.570327e+07"
      ],
      "text/html": "<div>\n<style scoped>\n    .dataframe tbody tr th:only-of-type {\n        vertical-align: middle;\n    }\n\n    .dataframe tbody tr th {\n        vertical-align: top;\n    }\n\n    .dataframe thead th {\n        text-align: right;\n    }\n</style>\n<table border=\"1\" class=\"dataframe\">\n  <thead>\n    <tr style=\"text-align: right;\">\n      <th></th>\n      <th>budget</th>\n    </tr>\n    <tr>\n      <th>release_date</th>\n      <th></th>\n    </tr>\n  </thead>\n  <tbody>\n    <tr>\n      <th>2010.0</th>\n      <td>3.449541e+07</td>\n    </tr>\n    <tr>\n      <th>2011.0</th>\n      <td>3.477232e+07</td>\n    </tr>\n    <tr>\n      <th>2012.0</th>\n      <td>3.492203e+07</td>\n    </tr>\n    <tr>\n      <th>2013.0</th>\n      <td>3.552329e+07</td>\n    </tr>\n    <tr>\n      <th>2014.0</th>\n      <td>3.095989e+07</td>\n    </tr>\n    <tr>\n      <th>2015.0</th>\n      <td>3.113216e+07</td>\n    </tr>\n    <tr>\n      <th>2016.0</th>\n      <td>4.570327e+07</td>\n    </tr>\n  </tbody>\n</table>\n</div>"
     },
     "metadata": {},
     "execution_count": 52
    }
   ],
   "source": [
    "mean_budget = mean_budget[(mean_budget.index>=2010)&(mean_budget.index<=2016)]\n",
    "mean_budget"
   ]
  },
  {
   "cell_type": "code",
   "execution_count": 79,
   "metadata": {},
   "outputs": [
    {
     "output_type": "execute_result",
     "data": {
      "text/plain": [
       "release_date\n",
       "2010.0    9.043811e+07\n",
       "2011.0    9.200413e+07\n",
       "2012.0    1.160659e+08\n",
       "2013.0    1.013485e+08\n",
       "2014.0    1.013466e+08\n",
       "2015.0    1.054399e+08\n",
       "2016.0    1.390496e+08\n",
       "Name: revenue, dtype: float64"
      ]
     },
     "metadata": {},
     "execution_count": 79
    }
   ],
   "source": [
    "mean_revenue['revenue']"
   ]
  },
  {
   "cell_type": "code",
   "execution_count": 80,
   "metadata": {},
   "outputs": [
    {
     "output_type": "execute_result",
     "data": {
      "text/plain": [
       "array([9.04381101e+07, 9.20041308e+07, 1.16065915e+08, 1.01348456e+08,\n",
       "       1.01346599e+08, 1.05439927e+08, 1.39049586e+08])"
      ]
     },
     "metadata": {},
     "execution_count": 80
    }
   ],
   "source": [
    "import numpy as np\n",
    "np.array(mean_revenue['revenue'])"
   ]
  },
  {
   "cell_type": "code",
   "execution_count": 53,
   "metadata": {},
   "outputs": [],
   "source": [
    "import matplotlib.pyplot as plt\n",
    "import numpy as np"
   ]
  },
  {
   "cell_type": "code",
   "execution_count": 83,
   "metadata": {},
   "outputs": [
    {
     "output_type": "error",
     "ename": "TypeError",
     "evalue": "cannot unpack non-iterable Figure object",
     "traceback": [
      "\u001b[1;31m---------------------------------------------------------------------------\u001b[0m",
      "\u001b[1;31mTypeError\u001b[0m                                 Traceback (most recent call last)",
      "\u001b[1;32m<ipython-input-83-cb37c72fffd1>\u001b[0m in \u001b[0;36m<module>\u001b[1;34m\u001b[0m\n\u001b[1;32m----> 1\u001b[1;33m \u001b[0mfig\u001b[0m\u001b[1;33m,\u001b[0m \u001b[0max\u001b[0m \u001b[1;33m=\u001b[0m \u001b[0mplt\u001b[0m\u001b[1;33m.\u001b[0m\u001b[0mfigure\u001b[0m\u001b[1;33m(\u001b[0m\u001b[1;33m)\u001b[0m\u001b[1;33m\u001b[0m\u001b[1;33m\u001b[0m\u001b[0m\n\u001b[0m\u001b[0;32m      2\u001b[0m \u001b[1;33m\u001b[0m\u001b[0m\n\u001b[0;32m      3\u001b[0m \u001b[1;32mdef\u001b[0m \u001b[0mmillion\u001b[0m\u001b[1;33m(\u001b[0m\u001b[0mx\u001b[0m\u001b[1;33m,\u001b[0m \u001b[0mpos\u001b[0m\u001b[1;33m)\u001b[0m\u001b[1;33m:\u001b[0m\u001b[1;33m\u001b[0m\u001b[1;33m\u001b[0m\u001b[0m\n\u001b[0;32m      4\u001b[0m     \u001b[1;31m#for x in enumerate(ax.flat):\u001b[0m\u001b[1;33m\u001b[0m\u001b[1;33m\u001b[0m\u001b[1;33m\u001b[0m\u001b[0m\n\u001b[0;32m      5\u001b[0m     \u001b[1;32mreturn\u001b[0m \u001b[1;34m'{:2.1f}M'\u001b[0m\u001b[1;33m.\u001b[0m\u001b[0mformat\u001b[0m\u001b[1;33m(\u001b[0m\u001b[0mx\u001b[0m\u001b[1;33m*\u001b[0m\u001b[1;36m1e-6\u001b[0m\u001b[1;33m)\u001b[0m\u001b[1;33m\u001b[0m\u001b[1;33m\u001b[0m\u001b[0m\n",
      "\u001b[1;31mTypeError\u001b[0m: cannot unpack non-iterable Figure object"
     ]
    }
   ],
   "source": [
    "fig, ax = plt.figure()\n",
    "\n",
    "def million(x, pos):\n",
    "    #for x in enumerate(ax.flat):\n",
    "    return '{:2.1f}M'.format(x*1e-6)\n",
    "\n",
    "formatter = plt.FuncFormatter(million)\n",
    "\n",
    "axes = fig.add_axes([0,0,1,1])\n",
    "\n",
    "ax.yaxis.set_major_formatter(formatter)\n",
    "ax.yaxis.set_major_locator(plt.MultipleLocator(20e6))\n",
    "\n",
    "axes.bar(mean_revenue.index, np.array(mean_revenue['revenue']),label='revenues')\n",
    "axes.plot(mean_budget.index, np.array(mean_budget['budget']) ,color='red',linewidth=3,label='budget')\n",
    "\n",
    "axes.legend(loc=(1.05,0.85))\n",
    "\n",
    "plt.title('Średni przychód i budżet filmu w latach 2010-2016')"
   ]
  },
  {
   "source": [
    "3. Baza filmów zawiera kolumnę z id gatunku (genre_id). Na tej podstawie połącz ze sobą bazę filmów z bazą gatunków, tak aby w bazie filmów można było odczytać nazwę gatunku filmu."
   ],
   "cell_type": "markdown",
   "metadata": {}
  },
  {
   "cell_type": "code",
   "execution_count": 84,
   "metadata": {},
   "outputs": [
    {
     "output_type": "execute_result",
     "data": {
      "text/plain": [
       "    Unnamed: 0           genres\n",
       "0         28.0           Action\n",
       "1         12.0        Adventure\n",
       "2         14.0          Fantasy\n",
       "3         16.0        Animation\n",
       "4        878.0  Science Fiction\n",
       "5         18.0            Drama\n",
       "6         53.0         Thriller\n",
       "7      10751.0           Family\n",
       "8         35.0           Comedy\n",
       "9         36.0          History\n",
       "10     10752.0              War\n",
       "11        37.0          Western\n",
       "12     10749.0          Romance\n",
       "13        80.0            Crime\n",
       "14      9648.0          Mystery\n",
       "15        27.0           Horror\n",
       "16        99.0      Documentary\n",
       "17     10402.0            Music\n",
       "18     10770.0         TV Movie\n",
       "19         NaN              NaN\n",
       "20     10769.0          Foreign"
      ],
      "text/html": "<div>\n<style scoped>\n    .dataframe tbody tr th:only-of-type {\n        vertical-align: middle;\n    }\n\n    .dataframe tbody tr th {\n        vertical-align: top;\n    }\n\n    .dataframe thead th {\n        text-align: right;\n    }\n</style>\n<table border=\"1\" class=\"dataframe\">\n  <thead>\n    <tr style=\"text-align: right;\">\n      <th></th>\n      <th>Unnamed: 0</th>\n      <th>genres</th>\n    </tr>\n  </thead>\n  <tbody>\n    <tr>\n      <th>0</th>\n      <td>28.0</td>\n      <td>Action</td>\n    </tr>\n    <tr>\n      <th>1</th>\n      <td>12.0</td>\n      <td>Adventure</td>\n    </tr>\n    <tr>\n      <th>2</th>\n      <td>14.0</td>\n      <td>Fantasy</td>\n    </tr>\n    <tr>\n      <th>3</th>\n      <td>16.0</td>\n      <td>Animation</td>\n    </tr>\n    <tr>\n      <th>4</th>\n      <td>878.0</td>\n      <td>Science Fiction</td>\n    </tr>\n    <tr>\n      <th>5</th>\n      <td>18.0</td>\n      <td>Drama</td>\n    </tr>\n    <tr>\n      <th>6</th>\n      <td>53.0</td>\n      <td>Thriller</td>\n    </tr>\n    <tr>\n      <th>7</th>\n      <td>10751.0</td>\n      <td>Family</td>\n    </tr>\n    <tr>\n      <th>8</th>\n      <td>35.0</td>\n      <td>Comedy</td>\n    </tr>\n    <tr>\n      <th>9</th>\n      <td>36.0</td>\n      <td>History</td>\n    </tr>\n    <tr>\n      <th>10</th>\n      <td>10752.0</td>\n      <td>War</td>\n    </tr>\n    <tr>\n      <th>11</th>\n      <td>37.0</td>\n      <td>Western</td>\n    </tr>\n    <tr>\n      <th>12</th>\n      <td>10749.0</td>\n      <td>Romance</td>\n    </tr>\n    <tr>\n      <th>13</th>\n      <td>80.0</td>\n      <td>Crime</td>\n    </tr>\n    <tr>\n      <th>14</th>\n      <td>9648.0</td>\n      <td>Mystery</td>\n    </tr>\n    <tr>\n      <th>15</th>\n      <td>27.0</td>\n      <td>Horror</td>\n    </tr>\n    <tr>\n      <th>16</th>\n      <td>99.0</td>\n      <td>Documentary</td>\n    </tr>\n    <tr>\n      <th>17</th>\n      <td>10402.0</td>\n      <td>Music</td>\n    </tr>\n    <tr>\n      <th>18</th>\n      <td>10770.0</td>\n      <td>TV Movie</td>\n    </tr>\n    <tr>\n      <th>19</th>\n      <td>NaN</td>\n      <td>NaN</td>\n    </tr>\n    <tr>\n      <th>20</th>\n      <td>10769.0</td>\n      <td>Foreign</td>\n    </tr>\n  </tbody>\n</table>\n</div>"
     },
     "metadata": {},
     "execution_count": 84
    }
   ],
   "source": [
    "genres = pd.read_csv('tmdb_genres.csv')\n",
    "genres"
   ]
  },
  {
   "cell_type": "code",
   "execution_count": 85,
   "metadata": {},
   "outputs": [
    {
     "output_type": "execute_result",
     "data": {
      "text/plain": [
       "pandas.core.frame.DataFrame"
      ]
     },
     "metadata": {},
     "execution_count": 85
    }
   ],
   "source": [
    "type(genres)"
   ]
  },
  {
   "cell_type": "code",
   "execution_count": 92,
   "metadata": {},
   "outputs": [
    {
     "output_type": "execute_result",
     "data": {
      "text/plain": [
       "    genre_id           genres\n",
       "0       28.0           Action\n",
       "1       12.0        Adventure\n",
       "2       14.0          Fantasy\n",
       "3       16.0        Animation\n",
       "4      878.0  Science Fiction\n",
       "5       18.0            Drama\n",
       "6       53.0         Thriller\n",
       "7    10751.0           Family\n",
       "8       35.0           Comedy\n",
       "9       36.0          History\n",
       "10   10752.0              War\n",
       "11      37.0          Western\n",
       "12   10749.0          Romance\n",
       "13      80.0            Crime\n",
       "14    9648.0          Mystery\n",
       "15      27.0           Horror\n",
       "16      99.0      Documentary\n",
       "17   10402.0            Music\n",
       "18   10770.0         TV Movie\n",
       "19       NaN              NaN\n",
       "20   10769.0          Foreign"
      ],
      "text/html": "<div>\n<style scoped>\n    .dataframe tbody tr th:only-of-type {\n        vertical-align: middle;\n    }\n\n    .dataframe tbody tr th {\n        vertical-align: top;\n    }\n\n    .dataframe thead th {\n        text-align: right;\n    }\n</style>\n<table border=\"1\" class=\"dataframe\">\n  <thead>\n    <tr style=\"text-align: right;\">\n      <th></th>\n      <th>genre_id</th>\n      <th>genres</th>\n    </tr>\n  </thead>\n  <tbody>\n    <tr>\n      <th>0</th>\n      <td>28.0</td>\n      <td>Action</td>\n    </tr>\n    <tr>\n      <th>1</th>\n      <td>12.0</td>\n      <td>Adventure</td>\n    </tr>\n    <tr>\n      <th>2</th>\n      <td>14.0</td>\n      <td>Fantasy</td>\n    </tr>\n    <tr>\n      <th>3</th>\n      <td>16.0</td>\n      <td>Animation</td>\n    </tr>\n    <tr>\n      <th>4</th>\n      <td>878.0</td>\n      <td>Science Fiction</td>\n    </tr>\n    <tr>\n      <th>5</th>\n      <td>18.0</td>\n      <td>Drama</td>\n    </tr>\n    <tr>\n      <th>6</th>\n      <td>53.0</td>\n      <td>Thriller</td>\n    </tr>\n    <tr>\n      <th>7</th>\n      <td>10751.0</td>\n      <td>Family</td>\n    </tr>\n    <tr>\n      <th>8</th>\n      <td>35.0</td>\n      <td>Comedy</td>\n    </tr>\n    <tr>\n      <th>9</th>\n      <td>36.0</td>\n      <td>History</td>\n    </tr>\n    <tr>\n      <th>10</th>\n      <td>10752.0</td>\n      <td>War</td>\n    </tr>\n    <tr>\n      <th>11</th>\n      <td>37.0</td>\n      <td>Western</td>\n    </tr>\n    <tr>\n      <th>12</th>\n      <td>10749.0</td>\n      <td>Romance</td>\n    </tr>\n    <tr>\n      <th>13</th>\n      <td>80.0</td>\n      <td>Crime</td>\n    </tr>\n    <tr>\n      <th>14</th>\n      <td>9648.0</td>\n      <td>Mystery</td>\n    </tr>\n    <tr>\n      <th>15</th>\n      <td>27.0</td>\n      <td>Horror</td>\n    </tr>\n    <tr>\n      <th>16</th>\n      <td>99.0</td>\n      <td>Documentary</td>\n    </tr>\n    <tr>\n      <th>17</th>\n      <td>10402.0</td>\n      <td>Music</td>\n    </tr>\n    <tr>\n      <th>18</th>\n      <td>10770.0</td>\n      <td>TV Movie</td>\n    </tr>\n    <tr>\n      <th>19</th>\n      <td>NaN</td>\n      <td>NaN</td>\n    </tr>\n    <tr>\n      <th>20</th>\n      <td>10769.0</td>\n      <td>Foreign</td>\n    </tr>\n  </tbody>\n</table>\n</div>"
     },
     "metadata": {},
     "execution_count": 92
    }
   ],
   "source": [
    "genres.rename(columns={\"Unnamed: 0\": \"genre_id\"}, inplace=True)\n",
    "genres"
   ]
  },
  {
   "cell_type": "code",
   "execution_count": 88,
   "metadata": {},
   "outputs": [
    {
     "output_type": "execute_result",
     "data": {
      "text/plain": [
       "numpy.float64"
      ]
     },
     "metadata": {},
     "execution_count": 88
    }
   ],
   "source": [
    "type(movies.loc[0]['genre_id'])"
   ]
  },
  {
   "cell_type": "code",
   "execution_count": 93,
   "metadata": {},
   "outputs": [
    {
     "output_type": "execute_result",
     "data": {
      "text/plain": [
       "numpy.float64"
      ]
     },
     "metadata": {},
     "execution_count": 93
    }
   ],
   "source": [
    "type(genres.loc[0]['genre_id'])"
   ]
  },
  {
   "cell_type": "code",
   "execution_count": 96,
   "metadata": {},
   "outputs": [
    {
     "output_type": "execute_result",
     "data": {
      "text/plain": [
       "      Unnamed: 0     budget  \\\n",
       "0              0  237000000   \n",
       "1              2  245000000   \n",
       "2              3  250000000   \n",
       "3              4  260000000   \n",
       "4              7  280000000   \n",
       "...          ...        ...   \n",
       "4798        4714          0   \n",
       "4799        4716          0   \n",
       "4800        4801          0   \n",
       "4801        4666     225000   \n",
       "4802        4797          0   \n",
       "\n",
       "                                               homepage      id  \\\n",
       "0                           http://www.avatarmovie.com/   19995   \n",
       "1           http://www.sonypictures.com/movies/spectre/  206647   \n",
       "2                    http://www.thedarkknightrises.com/   49026   \n",
       "3                  http://movies.disney.com/john-carter   49529   \n",
       "4     http://marvel.com/movies/movie/193/avengers_ag...   99861   \n",
       "...                                                 ...     ...   \n",
       "4798                                                NaN  282128   \n",
       "4799                                                NaN   38786   \n",
       "4800                        http://shanghaicalling.com/  126186   \n",
       "4801                        http://detroitfirefilm.org/  139948   \n",
       "4802                                                NaN   67238   \n",
       "\n",
       "     original_language                                     original_title  \\\n",
       "0                   en                                             Avatar   \n",
       "1                   en                                            Spectre   \n",
       "2                   en                              The Dark Knight Rises   \n",
       "3                   en                                        John Carter   \n",
       "4                   en                            Avengers: Age of Ultron   \n",
       "...                ...                                                ...   \n",
       "4798                en                           An American in Hollywood   \n",
       "4799                en  The Blood of My Brother: A Story of Death in Iraq   \n",
       "4800                en                                   Shanghai Calling   \n",
       "4801                en                                               Burn   \n",
       "4802                en                                             Cavite   \n",
       "\n",
       "                                               overview  popularity  \\\n",
       "0     In the 22nd century, a paraplegic Marine is di...  150.437577   \n",
       "1     A cryptic message from Bond’s past sends him o...  107.376788   \n",
       "2     Following the death of District Attorney Harve...  112.312950   \n",
       "3     John Carter is a war-weary, former military ca...   43.926995   \n",
       "4     When Tony Stark tries to jumpstart a dormant p...  134.279229   \n",
       "...                                                 ...         ...   \n",
       "4798  A talented young filmmaker from New York sets ...    0.015697   \n",
       "4799  THE BLOOD OF MY BROTHER goes behind the scenes...    0.005256   \n",
       "4800  When ambitious New York attorney Sam is sent t...    0.857008   \n",
       "4801  A character-driven, action-packed documentary ...    0.126676   \n",
       "4802  Adam, a security guard, travels from Californi...    0.022173   \n",
       "\n",
       "     release_date     revenue  runtime    status  \\\n",
       "0      2009-12-10  2787965087    162.0  Released   \n",
       "1      2015-10-26   880674609    148.0  Released   \n",
       "2      2012-07-16  1084939099    165.0  Released   \n",
       "3      2012-03-07   284139100    132.0  Released   \n",
       "4      2015-04-22  1405403694    141.0  Released   \n",
       "...           ...         ...      ...       ...   \n",
       "4798   2014-07-18           0     89.0  Released   \n",
       "4799   2005-11-25           0     90.0  Released   \n",
       "4800   2012-05-03           0     98.0  Released   \n",
       "4801   2012-11-01      111300     86.0  Released   \n",
       "4802   2005-03-12           0     80.0  Released   \n",
       "\n",
       "                                                tagline  \\\n",
       "0                           Enter the World of Pandora.   \n",
       "1                                 A Plan No One Escapes   \n",
       "2                                       The Legend Ends   \n",
       "3                  Lost in our world, found in another.   \n",
       "4                                   A New Age Has Come.   \n",
       "...                                                 ...   \n",
       "4798                                                NaN   \n",
       "4799                                                NaN   \n",
       "4800                           A New Yorker in Shanghai   \n",
       "4801  One Year on the Front Lines of the Battle to S...   \n",
       "4802                                                NaN   \n",
       "\n",
       "                                                  title  vote_average  \\\n",
       "0                                                Avatar           7.2   \n",
       "1                                               Spectre           6.3   \n",
       "2                                 The Dark Knight Rises           7.6   \n",
       "3                                           John Carter           6.1   \n",
       "4                               Avengers: Age of Ultron           7.3   \n",
       "...                                                 ...           ...   \n",
       "4798                           An American in Hollywood           0.0   \n",
       "4799  The Blood of My Brother: A Story of Death in Iraq           0.0   \n",
       "4800                                   Shanghai Calling           5.7   \n",
       "4801                                               Burn           6.9   \n",
       "4802                                             Cavite           7.5   \n",
       "\n",
       "      vote_count  genre_id   genres  \n",
       "0          11800      28.0   Action  \n",
       "1           4466      28.0   Action  \n",
       "2           9106      28.0   Action  \n",
       "3           2124      28.0   Action  \n",
       "4           6767      28.0   Action  \n",
       "...          ...       ...      ...  \n",
       "4798           0       NaN      NaN  \n",
       "4799           0       NaN      NaN  \n",
       "4800           7       NaN      NaN  \n",
       "4801           6   10769.0  Foreign  \n",
       "4802           2   10769.0  Foreign  \n",
       "\n",
       "[4803 rows x 18 columns]"
      ],
      "text/html": "<div>\n<style scoped>\n    .dataframe tbody tr th:only-of-type {\n        vertical-align: middle;\n    }\n\n    .dataframe tbody tr th {\n        vertical-align: top;\n    }\n\n    .dataframe thead th {\n        text-align: right;\n    }\n</style>\n<table border=\"1\" class=\"dataframe\">\n  <thead>\n    <tr style=\"text-align: right;\">\n      <th></th>\n      <th>Unnamed: 0</th>\n      <th>budget</th>\n      <th>homepage</th>\n      <th>id</th>\n      <th>original_language</th>\n      <th>original_title</th>\n      <th>overview</th>\n      <th>popularity</th>\n      <th>release_date</th>\n      <th>revenue</th>\n      <th>runtime</th>\n      <th>status</th>\n      <th>tagline</th>\n      <th>title</th>\n      <th>vote_average</th>\n      <th>vote_count</th>\n      <th>genre_id</th>\n      <th>genres</th>\n    </tr>\n  </thead>\n  <tbody>\n    <tr>\n      <th>0</th>\n      <td>0</td>\n      <td>237000000</td>\n      <td>http://www.avatarmovie.com/</td>\n      <td>19995</td>\n      <td>en</td>\n      <td>Avatar</td>\n      <td>In the 22nd century, a paraplegic Marine is di...</td>\n      <td>150.437577</td>\n      <td>2009-12-10</td>\n      <td>2787965087</td>\n      <td>162.0</td>\n      <td>Released</td>\n      <td>Enter the World of Pandora.</td>\n      <td>Avatar</td>\n      <td>7.2</td>\n      <td>11800</td>\n      <td>28.0</td>\n      <td>Action</td>\n    </tr>\n    <tr>\n      <th>1</th>\n      <td>2</td>\n      <td>245000000</td>\n      <td>http://www.sonypictures.com/movies/spectre/</td>\n      <td>206647</td>\n      <td>en</td>\n      <td>Spectre</td>\n      <td>A cryptic message from Bond’s past sends him o...</td>\n      <td>107.376788</td>\n      <td>2015-10-26</td>\n      <td>880674609</td>\n      <td>148.0</td>\n      <td>Released</td>\n      <td>A Plan No One Escapes</td>\n      <td>Spectre</td>\n      <td>6.3</td>\n      <td>4466</td>\n      <td>28.0</td>\n      <td>Action</td>\n    </tr>\n    <tr>\n      <th>2</th>\n      <td>3</td>\n      <td>250000000</td>\n      <td>http://www.thedarkknightrises.com/</td>\n      <td>49026</td>\n      <td>en</td>\n      <td>The Dark Knight Rises</td>\n      <td>Following the death of District Attorney Harve...</td>\n      <td>112.312950</td>\n      <td>2012-07-16</td>\n      <td>1084939099</td>\n      <td>165.0</td>\n      <td>Released</td>\n      <td>The Legend Ends</td>\n      <td>The Dark Knight Rises</td>\n      <td>7.6</td>\n      <td>9106</td>\n      <td>28.0</td>\n      <td>Action</td>\n    </tr>\n    <tr>\n      <th>3</th>\n      <td>4</td>\n      <td>260000000</td>\n      <td>http://movies.disney.com/john-carter</td>\n      <td>49529</td>\n      <td>en</td>\n      <td>John Carter</td>\n      <td>John Carter is a war-weary, former military ca...</td>\n      <td>43.926995</td>\n      <td>2012-03-07</td>\n      <td>284139100</td>\n      <td>132.0</td>\n      <td>Released</td>\n      <td>Lost in our world, found in another.</td>\n      <td>John Carter</td>\n      <td>6.1</td>\n      <td>2124</td>\n      <td>28.0</td>\n      <td>Action</td>\n    </tr>\n    <tr>\n      <th>4</th>\n      <td>7</td>\n      <td>280000000</td>\n      <td>http://marvel.com/movies/movie/193/avengers_ag...</td>\n      <td>99861</td>\n      <td>en</td>\n      <td>Avengers: Age of Ultron</td>\n      <td>When Tony Stark tries to jumpstart a dormant p...</td>\n      <td>134.279229</td>\n      <td>2015-04-22</td>\n      <td>1405403694</td>\n      <td>141.0</td>\n      <td>Released</td>\n      <td>A New Age Has Come.</td>\n      <td>Avengers: Age of Ultron</td>\n      <td>7.3</td>\n      <td>6767</td>\n      <td>28.0</td>\n      <td>Action</td>\n    </tr>\n    <tr>\n      <th>...</th>\n      <td>...</td>\n      <td>...</td>\n      <td>...</td>\n      <td>...</td>\n      <td>...</td>\n      <td>...</td>\n      <td>...</td>\n      <td>...</td>\n      <td>...</td>\n      <td>...</td>\n      <td>...</td>\n      <td>...</td>\n      <td>...</td>\n      <td>...</td>\n      <td>...</td>\n      <td>...</td>\n      <td>...</td>\n      <td>...</td>\n    </tr>\n    <tr>\n      <th>4798</th>\n      <td>4714</td>\n      <td>0</td>\n      <td>NaN</td>\n      <td>282128</td>\n      <td>en</td>\n      <td>An American in Hollywood</td>\n      <td>A talented young filmmaker from New York sets ...</td>\n      <td>0.015697</td>\n      <td>2014-07-18</td>\n      <td>0</td>\n      <td>89.0</td>\n      <td>Released</td>\n      <td>NaN</td>\n      <td>An American in Hollywood</td>\n      <td>0.0</td>\n      <td>0</td>\n      <td>NaN</td>\n      <td>NaN</td>\n    </tr>\n    <tr>\n      <th>4799</th>\n      <td>4716</td>\n      <td>0</td>\n      <td>NaN</td>\n      <td>38786</td>\n      <td>en</td>\n      <td>The Blood of My Brother: A Story of Death in Iraq</td>\n      <td>THE BLOOD OF MY BROTHER goes behind the scenes...</td>\n      <td>0.005256</td>\n      <td>2005-11-25</td>\n      <td>0</td>\n      <td>90.0</td>\n      <td>Released</td>\n      <td>NaN</td>\n      <td>The Blood of My Brother: A Story of Death in Iraq</td>\n      <td>0.0</td>\n      <td>0</td>\n      <td>NaN</td>\n      <td>NaN</td>\n    </tr>\n    <tr>\n      <th>4800</th>\n      <td>4801</td>\n      <td>0</td>\n      <td>http://shanghaicalling.com/</td>\n      <td>126186</td>\n      <td>en</td>\n      <td>Shanghai Calling</td>\n      <td>When ambitious New York attorney Sam is sent t...</td>\n      <td>0.857008</td>\n      <td>2012-05-03</td>\n      <td>0</td>\n      <td>98.0</td>\n      <td>Released</td>\n      <td>A New Yorker in Shanghai</td>\n      <td>Shanghai Calling</td>\n      <td>5.7</td>\n      <td>7</td>\n      <td>NaN</td>\n      <td>NaN</td>\n    </tr>\n    <tr>\n      <th>4801</th>\n      <td>4666</td>\n      <td>225000</td>\n      <td>http://detroitfirefilm.org/</td>\n      <td>139948</td>\n      <td>en</td>\n      <td>Burn</td>\n      <td>A character-driven, action-packed documentary ...</td>\n      <td>0.126676</td>\n      <td>2012-11-01</td>\n      <td>111300</td>\n      <td>86.0</td>\n      <td>Released</td>\n      <td>One Year on the Front Lines of the Battle to S...</td>\n      <td>Burn</td>\n      <td>6.9</td>\n      <td>6</td>\n      <td>10769.0</td>\n      <td>Foreign</td>\n    </tr>\n    <tr>\n      <th>4802</th>\n      <td>4797</td>\n      <td>0</td>\n      <td>NaN</td>\n      <td>67238</td>\n      <td>en</td>\n      <td>Cavite</td>\n      <td>Adam, a security guard, travels from Californi...</td>\n      <td>0.022173</td>\n      <td>2005-03-12</td>\n      <td>0</td>\n      <td>80.0</td>\n      <td>Released</td>\n      <td>NaN</td>\n      <td>Cavite</td>\n      <td>7.5</td>\n      <td>2</td>\n      <td>10769.0</td>\n      <td>Foreign</td>\n    </tr>\n  </tbody>\n</table>\n<p>4803 rows × 18 columns</p>\n</div>"
     },
     "metadata": {},
     "execution_count": 96
    }
   ],
   "source": [
    "merged_list = pd.merge(movies,genres, on = ['genre_id'])\n",
    "merged_list"
   ]
  },
  {
   "source": [
    "4. Jaki gatunek filmu z bazy pojawia się w niej najczęściej? Ile filmów tego gatunku znajduje się w bazie?"
   ],
   "cell_type": "markdown",
   "metadata": {}
  },
  {
   "cell_type": "code",
   "execution_count": 97,
   "metadata": {},
   "outputs": [
    {
     "output_type": "execute_result",
     "data": {
      "text/plain": [
       "Drama              1207\n",
       "Comedy             1042\n",
       "Action              754\n",
       "Adventure           339\n",
       "Horror              300\n",
       "Crime               195\n",
       "Thriller            194\n",
       "Animation           123\n",
       "Fantasy             117\n",
       "Romance             106\n",
       "Science Fiction      96\n",
       "Documentary          89\n",
       "Family               56\n",
       "Mystery              41\n",
       "Music                34\n",
       "Western              27\n",
       "History              25\n",
       "War                  24\n",
       "TV Movie              4\n",
       "Foreign               2\n",
       "Name: genres, dtype: int64"
      ]
     },
     "metadata": {},
     "execution_count": 97
    }
   ],
   "source": [
    "merged_list['genres'].value_counts()"
   ]
  },
  {
   "cell_type": "code",
   "execution_count": 104,
   "metadata": {},
   "outputs": [
    {
     "output_type": "execute_result",
     "data": {
      "text/plain": [
       "Unnamed: 0           Drama\n",
       "budget               Drama\n",
       "homepage             Drama\n",
       "id                   Drama\n",
       "original_language    Drama\n",
       "original_title       Drama\n",
       "overview             Drama\n",
       "popularity           Drama\n",
       "release_date         Drama\n",
       "revenue              Drama\n",
       "runtime              Drama\n",
       "status               Drama\n",
       "tagline              Drama\n",
       "title                Drama\n",
       "vote_average         Drama\n",
       "vote_count           Drama\n",
       "genre_id             Drama\n",
       "dtype: object"
      ]
     },
     "metadata": {},
     "execution_count": 104
    }
   ],
   "source": [
    "merged_list.groupby('genres').count().idxmax()"
   ]
  },
  {
   "cell_type": "code",
   "execution_count": 107,
   "metadata": {},
   "outputs": [
    {
     "output_type": "execute_result",
     "data": {
      "text/plain": [
       "'Drama'"
      ]
     },
     "metadata": {},
     "execution_count": 107
    }
   ],
   "source": [
    "merged_list['genres'].value_counts().idxmax()"
   ]
  },
  {
   "cell_type": "code",
   "execution_count": 98,
   "metadata": {},
   "outputs": [
    {
     "output_type": "execute_result",
     "data": {
      "text/plain": [
       "1207"
      ]
     },
     "metadata": {},
     "execution_count": 98
    }
   ],
   "source": [
    "merged_list['genres'].value_counts().max()"
   ]
  },
  {
   "source": [
    "5. Filmy, którego gatunku trwają średnio najdłużej (runtime)?"
   ],
   "cell_type": "markdown",
   "metadata": {}
  },
  {
   "cell_type": "code",
   "execution_count": 110,
   "metadata": {},
   "outputs": [
    {
     "output_type": "execute_result",
     "data": {
      "text/plain": [
       "                  Unnamed: 0        budget             id  popularity  \\\n",
       "genres                                                                  \n",
       "Action           1704.950928  4.765133e+07   50641.551724   28.483161   \n",
       "Adventure        1437.799410  6.559832e+07   36439.958702   39.057579   \n",
       "Animation        1255.520325  6.760189e+07   50244.365854   35.359647   \n",
       "Comedy           2600.462572  1.883704e+07   45269.756238   14.844446   \n",
       "Crime            2566.312821  2.163398e+07   52562.671795   19.873730   \n",
       "Documentary      4169.359551  1.957465e+06   91420.123596    3.547517   \n",
       "Drama            2737.357084  1.797940e+07   54354.758906   16.094277   \n",
       "Family           1913.946429  4.269425e+07   98396.232143   36.147438   \n",
       "Fantasy          1569.111111  5.253879e+07   40235.581197   33.821786   \n",
       "Foreign          4731.500000  1.125000e+05  103593.000000    0.074425   \n",
       "History          2310.480000  2.440340e+07   77379.240000   19.034787   \n",
       "Horror           3080.670000  1.166398e+07   66963.853333   19.407698   \n",
       "Music            2827.382353  1.551357e+07   67874.117647   10.721461   \n",
       "Mystery          2499.048780  2.237390e+07   68011.853659   23.744675   \n",
       "Romance          2597.603774  2.053943e+07   81633.650943   18.817545   \n",
       "Science Fiction  2007.562500  4.927585e+07   56586.812500   42.053748   \n",
       "TV Movie         3684.500000  2.500000e+05  115005.000000    5.627443   \n",
       "Thriller         2588.340206  2.469809e+07  121050.314433   21.879654   \n",
       "War              1926.166667  3.655208e+07   77776.291667   23.037561   \n",
       "Western          3052.148148  2.318236e+07   74914.000000   22.306204   \n",
       "\n",
       "                      revenue     runtime  vote_average   vote_count  genre_id  \n",
       "genres                                                                          \n",
       "Action           1.218614e+08  109.058355      5.938064  1022.884615      28.0  \n",
       "Adventure        2.109611e+08  113.061947      6.305605  1448.082596      12.0  \n",
       "Animation        2.417656e+08   89.552846      6.273984  1324.569106      16.0  \n",
       "Comedy           5.178074e+07  100.464491      5.932342   411.330134      35.0  \n",
       "Crime            4.832888e+07  112.143590      6.428718   618.266667      80.0  \n",
       "Documentary      8.752088e+06   93.511364      6.178652    63.977528      99.0  \n",
       "Drama            4.536260e+07  115.521559      6.430240   483.284176      18.0  \n",
       "Family           1.594183e+08   89.803571      5.646429   761.732143   10751.0  \n",
       "Fantasy          1.475592e+08  106.487179      6.167521  1110.341880      14.0  \n",
       "Foreign          5.565000e+04   83.000000      7.200000     4.000000   10769.0  \n",
       "History          7.277602e+07  133.960000      6.628000   572.760000      36.0  \n",
       "Horror           4.448432e+07   94.753333      5.631667   519.643333      27.0  \n",
       "Music            3.170353e+07  102.852941      6.252941   210.235294   10402.0  \n",
       "Mystery          6.928847e+07  100.609756      6.143902   702.512195    9648.0  \n",
       "Romance          6.575061e+07  107.094340      6.194340   550.433962   10749.0  \n",
       "Science Fiction  1.685224e+08  109.031250      6.157292  1569.666667     878.0  \n",
       "TV Movie         0.000000e+00  110.500000      4.875000   124.750000   10770.0  \n",
       "Thriller         6.048303e+07  105.690722      5.627835   670.432990      53.0  \n",
       "War              6.471706e+07  126.125000      6.595833   691.500000   10752.0  \n",
       "Western          4.957033e+07  117.925926      6.414815   625.370370      37.0  "
      ],
      "text/html": "<div>\n<style scoped>\n    .dataframe tbody tr th:only-of-type {\n        vertical-align: middle;\n    }\n\n    .dataframe tbody tr th {\n        vertical-align: top;\n    }\n\n    .dataframe thead th {\n        text-align: right;\n    }\n</style>\n<table border=\"1\" class=\"dataframe\">\n  <thead>\n    <tr style=\"text-align: right;\">\n      <th></th>\n      <th>Unnamed: 0</th>\n      <th>budget</th>\n      <th>id</th>\n      <th>popularity</th>\n      <th>revenue</th>\n      <th>runtime</th>\n      <th>vote_average</th>\n      <th>vote_count</th>\n      <th>genre_id</th>\n    </tr>\n    <tr>\n      <th>genres</th>\n      <th></th>\n      <th></th>\n      <th></th>\n      <th></th>\n      <th></th>\n      <th></th>\n      <th></th>\n      <th></th>\n      <th></th>\n    </tr>\n  </thead>\n  <tbody>\n    <tr>\n      <th>Action</th>\n      <td>1704.950928</td>\n      <td>4.765133e+07</td>\n      <td>50641.551724</td>\n      <td>28.483161</td>\n      <td>1.218614e+08</td>\n      <td>109.058355</td>\n      <td>5.938064</td>\n      <td>1022.884615</td>\n      <td>28.0</td>\n    </tr>\n    <tr>\n      <th>Adventure</th>\n      <td>1437.799410</td>\n      <td>6.559832e+07</td>\n      <td>36439.958702</td>\n      <td>39.057579</td>\n      <td>2.109611e+08</td>\n      <td>113.061947</td>\n      <td>6.305605</td>\n      <td>1448.082596</td>\n      <td>12.0</td>\n    </tr>\n    <tr>\n      <th>Animation</th>\n      <td>1255.520325</td>\n      <td>6.760189e+07</td>\n      <td>50244.365854</td>\n      <td>35.359647</td>\n      <td>2.417656e+08</td>\n      <td>89.552846</td>\n      <td>6.273984</td>\n      <td>1324.569106</td>\n      <td>16.0</td>\n    </tr>\n    <tr>\n      <th>Comedy</th>\n      <td>2600.462572</td>\n      <td>1.883704e+07</td>\n      <td>45269.756238</td>\n      <td>14.844446</td>\n      <td>5.178074e+07</td>\n      <td>100.464491</td>\n      <td>5.932342</td>\n      <td>411.330134</td>\n      <td>35.0</td>\n    </tr>\n    <tr>\n      <th>Crime</th>\n      <td>2566.312821</td>\n      <td>2.163398e+07</td>\n      <td>52562.671795</td>\n      <td>19.873730</td>\n      <td>4.832888e+07</td>\n      <td>112.143590</td>\n      <td>6.428718</td>\n      <td>618.266667</td>\n      <td>80.0</td>\n    </tr>\n    <tr>\n      <th>Documentary</th>\n      <td>4169.359551</td>\n      <td>1.957465e+06</td>\n      <td>91420.123596</td>\n      <td>3.547517</td>\n      <td>8.752088e+06</td>\n      <td>93.511364</td>\n      <td>6.178652</td>\n      <td>63.977528</td>\n      <td>99.0</td>\n    </tr>\n    <tr>\n      <th>Drama</th>\n      <td>2737.357084</td>\n      <td>1.797940e+07</td>\n      <td>54354.758906</td>\n      <td>16.094277</td>\n      <td>4.536260e+07</td>\n      <td>115.521559</td>\n      <td>6.430240</td>\n      <td>483.284176</td>\n      <td>18.0</td>\n    </tr>\n    <tr>\n      <th>Family</th>\n      <td>1913.946429</td>\n      <td>4.269425e+07</td>\n      <td>98396.232143</td>\n      <td>36.147438</td>\n      <td>1.594183e+08</td>\n      <td>89.803571</td>\n      <td>5.646429</td>\n      <td>761.732143</td>\n      <td>10751.0</td>\n    </tr>\n    <tr>\n      <th>Fantasy</th>\n      <td>1569.111111</td>\n      <td>5.253879e+07</td>\n      <td>40235.581197</td>\n      <td>33.821786</td>\n      <td>1.475592e+08</td>\n      <td>106.487179</td>\n      <td>6.167521</td>\n      <td>1110.341880</td>\n      <td>14.0</td>\n    </tr>\n    <tr>\n      <th>Foreign</th>\n      <td>4731.500000</td>\n      <td>1.125000e+05</td>\n      <td>103593.000000</td>\n      <td>0.074425</td>\n      <td>5.565000e+04</td>\n      <td>83.000000</td>\n      <td>7.200000</td>\n      <td>4.000000</td>\n      <td>10769.0</td>\n    </tr>\n    <tr>\n      <th>History</th>\n      <td>2310.480000</td>\n      <td>2.440340e+07</td>\n      <td>77379.240000</td>\n      <td>19.034787</td>\n      <td>7.277602e+07</td>\n      <td>133.960000</td>\n      <td>6.628000</td>\n      <td>572.760000</td>\n      <td>36.0</td>\n    </tr>\n    <tr>\n      <th>Horror</th>\n      <td>3080.670000</td>\n      <td>1.166398e+07</td>\n      <td>66963.853333</td>\n      <td>19.407698</td>\n      <td>4.448432e+07</td>\n      <td>94.753333</td>\n      <td>5.631667</td>\n      <td>519.643333</td>\n      <td>27.0</td>\n    </tr>\n    <tr>\n      <th>Music</th>\n      <td>2827.382353</td>\n      <td>1.551357e+07</td>\n      <td>67874.117647</td>\n      <td>10.721461</td>\n      <td>3.170353e+07</td>\n      <td>102.852941</td>\n      <td>6.252941</td>\n      <td>210.235294</td>\n      <td>10402.0</td>\n    </tr>\n    <tr>\n      <th>Mystery</th>\n      <td>2499.048780</td>\n      <td>2.237390e+07</td>\n      <td>68011.853659</td>\n      <td>23.744675</td>\n      <td>6.928847e+07</td>\n      <td>100.609756</td>\n      <td>6.143902</td>\n      <td>702.512195</td>\n      <td>9648.0</td>\n    </tr>\n    <tr>\n      <th>Romance</th>\n      <td>2597.603774</td>\n      <td>2.053943e+07</td>\n      <td>81633.650943</td>\n      <td>18.817545</td>\n      <td>6.575061e+07</td>\n      <td>107.094340</td>\n      <td>6.194340</td>\n      <td>550.433962</td>\n      <td>10749.0</td>\n    </tr>\n    <tr>\n      <th>Science Fiction</th>\n      <td>2007.562500</td>\n      <td>4.927585e+07</td>\n      <td>56586.812500</td>\n      <td>42.053748</td>\n      <td>1.685224e+08</td>\n      <td>109.031250</td>\n      <td>6.157292</td>\n      <td>1569.666667</td>\n      <td>878.0</td>\n    </tr>\n    <tr>\n      <th>TV Movie</th>\n      <td>3684.500000</td>\n      <td>2.500000e+05</td>\n      <td>115005.000000</td>\n      <td>5.627443</td>\n      <td>0.000000e+00</td>\n      <td>110.500000</td>\n      <td>4.875000</td>\n      <td>124.750000</td>\n      <td>10770.0</td>\n    </tr>\n    <tr>\n      <th>Thriller</th>\n      <td>2588.340206</td>\n      <td>2.469809e+07</td>\n      <td>121050.314433</td>\n      <td>21.879654</td>\n      <td>6.048303e+07</td>\n      <td>105.690722</td>\n      <td>5.627835</td>\n      <td>670.432990</td>\n      <td>53.0</td>\n    </tr>\n    <tr>\n      <th>War</th>\n      <td>1926.166667</td>\n      <td>3.655208e+07</td>\n      <td>77776.291667</td>\n      <td>23.037561</td>\n      <td>6.471706e+07</td>\n      <td>126.125000</td>\n      <td>6.595833</td>\n      <td>691.500000</td>\n      <td>10752.0</td>\n    </tr>\n    <tr>\n      <th>Western</th>\n      <td>3052.148148</td>\n      <td>2.318236e+07</td>\n      <td>74914.000000</td>\n      <td>22.306204</td>\n      <td>4.957033e+07</td>\n      <td>117.925926</td>\n      <td>6.414815</td>\n      <td>625.370370</td>\n      <td>37.0</td>\n    </tr>\n  </tbody>\n</table>\n</div>"
     },
     "metadata": {},
     "execution_count": 110
    }
   ],
   "source": [
    "merged_list.groupby('genres').mean('runtime')"
   ]
  },
  {
   "cell_type": "code",
   "execution_count": 112,
   "metadata": {},
   "outputs": [
    {
     "output_type": "execute_result",
     "data": {
      "text/plain": [
       "genres\n",
       "Action             109.058355\n",
       "Adventure          113.061947\n",
       "Animation           89.552846\n",
       "Comedy             100.464491\n",
       "Crime              112.143590\n",
       "Documentary         93.511364\n",
       "Drama              115.521559\n",
       "Family              89.803571\n",
       "Fantasy            106.487179\n",
       "Foreign             83.000000\n",
       "History            133.960000\n",
       "Horror              94.753333\n",
       "Music              102.852941\n",
       "Mystery            100.609756\n",
       "Romance            107.094340\n",
       "Science Fiction    109.031250\n",
       "TV Movie           110.500000\n",
       "Thriller           105.690722\n",
       "War                126.125000\n",
       "Western            117.925926\n",
       "Name: runtime, dtype: float64"
      ]
     },
     "metadata": {},
     "execution_count": 112
    }
   ],
   "source": [
    "merged_list.groupby(['genres'], as_index=False).mean().groupby('genres')['runtime'].mean()"
   ]
  },
  {
   "cell_type": "code",
   "execution_count": 113,
   "metadata": {},
   "outputs": [
    {
     "output_type": "execute_result",
     "data": {
      "text/plain": [
       "'History'"
      ]
     },
     "metadata": {},
     "execution_count": 113
    }
   ],
   "source": [
    "merged_list.groupby(['genres'], as_index=False).mean().groupby('genres')['runtime'].mean().idxmax()"
   ]
  },
  {
   "source": [
    "6. Stwórz histogram czasu trwania filmów z gatunku, który cechuje się największym średnim czasem trwania."
   ],
   "cell_type": "markdown",
   "metadata": {}
  },
  {
   "cell_type": "code",
   "execution_count": 114,
   "metadata": {},
   "outputs": [
    {
     "output_type": "execute_result",
     "data": {
      "text/plain": [
       "genres\n",
       "Action             109.058355\n",
       "Adventure          113.061947\n",
       "Animation           89.552846\n",
       "Comedy             100.464491\n",
       "Crime              112.143590\n",
       "Documentary         93.511364\n",
       "Drama              115.521559\n",
       "Family              89.803571\n",
       "Fantasy            106.487179\n",
       "Foreign             83.000000\n",
       "History            133.960000\n",
       "Horror              94.753333\n",
       "Music              102.852941\n",
       "Mystery            100.609756\n",
       "Romance            107.094340\n",
       "Science Fiction    109.031250\n",
       "TV Movie           110.500000\n",
       "Thriller           105.690722\n",
       "War                126.125000\n",
       "Western            117.925926\n",
       "Name: runtime, dtype: float64"
      ]
     },
     "metadata": {},
     "execution_count": 114
    }
   ],
   "source": [
    "histogram_data = merged_list.groupby(['genres'], as_index=False).mean().groupby('genres')['runtime'].mean()\n",
    "histogram_data"
   ]
  },
  {
   "cell_type": "code",
   "execution_count": 116,
   "metadata": {},
   "outputs": [
    {
     "output_type": "execute_result",
     "data": {
      "text/plain": [
       "                    runtime\n",
       "genres                     \n",
       "Action           109.058355\n",
       "Adventure        113.061947\n",
       "Animation         89.552846\n",
       "Comedy           100.464491\n",
       "Crime            112.143590\n",
       "Documentary       93.511364\n",
       "Drama            115.521559\n",
       "Family            89.803571\n",
       "Fantasy          106.487179\n",
       "Foreign           83.000000\n",
       "History          133.960000\n",
       "Horror            94.753333\n",
       "Music            102.852941\n",
       "Mystery          100.609756\n",
       "Romance          107.094340\n",
       "Science Fiction  109.031250\n",
       "TV Movie         110.500000\n",
       "Thriller         105.690722\n",
       "War              126.125000\n",
       "Western          117.925926"
      ],
      "text/html": "<div>\n<style scoped>\n    .dataframe tbody tr th:only-of-type {\n        vertical-align: middle;\n    }\n\n    .dataframe tbody tr th {\n        vertical-align: top;\n    }\n\n    .dataframe thead th {\n        text-align: right;\n    }\n</style>\n<table border=\"1\" class=\"dataframe\">\n  <thead>\n    <tr style=\"text-align: right;\">\n      <th></th>\n      <th>runtime</th>\n    </tr>\n    <tr>\n      <th>genres</th>\n      <th></th>\n    </tr>\n  </thead>\n  <tbody>\n    <tr>\n      <th>Action</th>\n      <td>109.058355</td>\n    </tr>\n    <tr>\n      <th>Adventure</th>\n      <td>113.061947</td>\n    </tr>\n    <tr>\n      <th>Animation</th>\n      <td>89.552846</td>\n    </tr>\n    <tr>\n      <th>Comedy</th>\n      <td>100.464491</td>\n    </tr>\n    <tr>\n      <th>Crime</th>\n      <td>112.143590</td>\n    </tr>\n    <tr>\n      <th>Documentary</th>\n      <td>93.511364</td>\n    </tr>\n    <tr>\n      <th>Drama</th>\n      <td>115.521559</td>\n    </tr>\n    <tr>\n      <th>Family</th>\n      <td>89.803571</td>\n    </tr>\n    <tr>\n      <th>Fantasy</th>\n      <td>106.487179</td>\n    </tr>\n    <tr>\n      <th>Foreign</th>\n      <td>83.000000</td>\n    </tr>\n    <tr>\n      <th>History</th>\n      <td>133.960000</td>\n    </tr>\n    <tr>\n      <th>Horror</th>\n      <td>94.753333</td>\n    </tr>\n    <tr>\n      <th>Music</th>\n      <td>102.852941</td>\n    </tr>\n    <tr>\n      <th>Mystery</th>\n      <td>100.609756</td>\n    </tr>\n    <tr>\n      <th>Romance</th>\n      <td>107.094340</td>\n    </tr>\n    <tr>\n      <th>Science Fiction</th>\n      <td>109.031250</td>\n    </tr>\n    <tr>\n      <th>TV Movie</th>\n      <td>110.500000</td>\n    </tr>\n    <tr>\n      <th>Thriller</th>\n      <td>105.690722</td>\n    </tr>\n    <tr>\n      <th>War</th>\n      <td>126.125000</td>\n    </tr>\n    <tr>\n      <th>Western</th>\n      <td>117.925926</td>\n    </tr>\n  </tbody>\n</table>\n</div>"
     },
     "metadata": {},
     "execution_count": 116
    }
   ],
   "source": [
    "histogram_data = pd.DataFrame(histogram_data)\n",
    "histogram_data"
   ]
  },
  {
   "cell_type": "code",
   "execution_count": 120,
   "metadata": {},
   "outputs": [
    {
     "output_type": "execute_result",
     "data": {
      "text/plain": [
       "<AxesSubplot:>"
      ]
     },
     "metadata": {},
     "execution_count": 120
    },
    {
     "output_type": "display_data",
     "data": {
      "text/plain": "<Figure size 432x288 with 1 Axes>",
      "image/svg+xml": "<?xml version=\"1.0\" encoding=\"utf-8\" standalone=\"no\"?>\r\n<!DOCTYPE svg PUBLIC \"-//W3C//DTD SVG 1.1//EN\"\r\n  \"http://www.w3.org/Graphics/SVG/1.1/DTD/svg11.dtd\">\r\n<!-- Created with matplotlib (https://matplotlib.org/) -->\r\n<svg height=\"248.518125pt\" version=\"1.1\" viewBox=\"0 0 372.103125 248.518125\" width=\"372.103125pt\" xmlns=\"http://www.w3.org/2000/svg\" xmlns:xlink=\"http://www.w3.org/1999/xlink\">\r\n <metadata>\r\n  <rdf:RDF xmlns:cc=\"http://creativecommons.org/ns#\" xmlns:dc=\"http://purl.org/dc/elements/1.1/\" xmlns:rdf=\"http://www.w3.org/1999/02/22-rdf-syntax-ns#\">\r\n   <cc:Work>\r\n    <dc:type rdf:resource=\"http://purl.org/dc/dcmitype/StillImage\"/>\r\n    <dc:date>2020-11-15T14:17:50.863907</dc:date>\r\n    <dc:format>image/svg+xml</dc:format>\r\n    <dc:creator>\r\n     <cc:Agent>\r\n      <dc:title>Matplotlib v3.3.1, https://matplotlib.org/</dc:title>\r\n     </cc:Agent>\r\n    </dc:creator>\r\n   </cc:Work>\r\n  </rdf:RDF>\r\n </metadata>\r\n <defs>\r\n  <style type=\"text/css\">*{stroke-linecap:butt;stroke-linejoin:round;}</style>\r\n </defs>\r\n <g id=\"figure_1\">\r\n  <g id=\"patch_1\">\r\n   <path d=\"M 0 248.518125 \r\nL 372.103125 248.518125 \r\nL 372.103125 0 \r\nL 0 0 \r\nz\r\n\" style=\"fill:none;\"/>\r\n  </g>\r\n  <g id=\"axes_1\">\r\n   <g id=\"patch_2\">\r\n    <path d=\"M 30.103125 224.64 \r\nL 364.903125 224.64 \r\nL 364.903125 7.2 \r\nL 30.103125 7.2 \r\nz\r\n\" style=\"fill:#ffffff;\"/>\r\n   </g>\r\n   <g id=\"patch_3\">\r\n    <path clip-path=\"url(#p17684f305b)\" d=\"M 45.321307 224.64 \r\nL 60.539489 224.64 \r\nL 60.539489 155.611429 \r\nL 45.321307 155.611429 \r\nz\r\n\" style=\"fill:#1f77b4;\"/>\r\n   </g>\r\n   <g id=\"patch_4\">\r\n    <path clip-path=\"url(#p17684f305b)\" d=\"M 60.539489 224.64 \r\nL 75.75767 224.64 \r\nL 75.75767 224.64 \r\nL 60.539489 224.64 \r\nz\r\n\" style=\"fill:#1f77b4;\"/>\r\n   </g>\r\n   <g id=\"patch_5\">\r\n    <path clip-path=\"url(#p17684f305b)\" d=\"M 75.75767 224.64 \r\nL 90.975852 224.64 \r\nL 90.975852 86.582857 \r\nL 75.75767 86.582857 \r\nz\r\n\" style=\"fill:#1f77b4;\"/>\r\n   </g>\r\n   <g id=\"patch_6\">\r\n    <path clip-path=\"url(#p17684f305b)\" d=\"M 90.975852 224.64 \r\nL 106.194034 224.64 \r\nL 106.194034 224.64 \r\nL 90.975852 224.64 \r\nz\r\n\" style=\"fill:#1f77b4;\"/>\r\n   </g>\r\n   <g id=\"patch_7\">\r\n    <path clip-path=\"url(#p17684f305b)\" d=\"M 106.194034 224.64 \r\nL 121.412216 224.64 \r\nL 121.412216 86.582857 \r\nL 106.194034 86.582857 \r\nz\r\n\" style=\"fill:#1f77b4;\"/>\r\n   </g>\r\n   <g id=\"patch_8\">\r\n    <path clip-path=\"url(#p17684f305b)\" d=\"M 121.412216 224.64 \r\nL 136.630398 224.64 \r\nL 136.630398 224.64 \r\nL 121.412216 224.64 \r\nz\r\n\" style=\"fill:#1f77b4;\"/>\r\n   </g>\r\n   <g id=\"patch_9\">\r\n    <path clip-path=\"url(#p17684f305b)\" d=\"M 136.630398 224.64 \r\nL 151.84858 224.64 \r\nL 151.84858 86.582857 \r\nL 136.630398 86.582857 \r\nz\r\n\" style=\"fill:#1f77b4;\"/>\r\n   </g>\r\n   <g id=\"patch_10\">\r\n    <path clip-path=\"url(#p17684f305b)\" d=\"M 151.84858 224.64 \r\nL 167.066761 224.64 \r\nL 167.066761 155.611429 \r\nL 151.84858 155.611429 \r\nz\r\n\" style=\"fill:#1f77b4;\"/>\r\n   </g>\r\n   <g id=\"patch_11\">\r\n    <path clip-path=\"url(#p17684f305b)\" d=\"M 167.066761 224.64 \r\nL 182.284943 224.64 \r\nL 182.284943 155.611429 \r\nL 167.066761 155.611429 \r\nz\r\n\" style=\"fill:#1f77b4;\"/>\r\n   </g>\r\n   <g id=\"patch_12\">\r\n    <path clip-path=\"url(#p17684f305b)\" d=\"M 182.284943 224.64 \r\nL 197.503125 224.64 \r\nL 197.503125 86.582857 \r\nL 182.284943 86.582857 \r\nz\r\n\" style=\"fill:#1f77b4;\"/>\r\n   </g>\r\n   <g id=\"patch_13\">\r\n    <path clip-path=\"url(#p17684f305b)\" d=\"M 197.503125 224.64 \r\nL 212.721307 224.64 \r\nL 212.721307 17.554286 \r\nL 197.503125 17.554286 \r\nz\r\n\" style=\"fill:#1f77b4;\"/>\r\n   </g>\r\n   <g id=\"patch_14\">\r\n    <path clip-path=\"url(#p17684f305b)\" d=\"M 212.721307 224.64 \r\nL 227.939489 224.64 \r\nL 227.939489 86.582857 \r\nL 212.721307 86.582857 \r\nz\r\n\" style=\"fill:#1f77b4;\"/>\r\n   </g>\r\n   <g id=\"patch_15\">\r\n    <path clip-path=\"url(#p17684f305b)\" d=\"M 227.939489 224.64 \r\nL 243.15767 224.64 \r\nL 243.15767 155.611429 \r\nL 227.939489 155.611429 \r\nz\r\n\" style=\"fill:#1f77b4;\"/>\r\n   </g>\r\n   <g id=\"patch_16\">\r\n    <path clip-path=\"url(#p17684f305b)\" d=\"M 243.15767 224.64 \r\nL 258.375852 224.64 \r\nL 258.375852 155.611429 \r\nL 243.15767 155.611429 \r\nz\r\n\" style=\"fill:#1f77b4;\"/>\r\n   </g>\r\n   <g id=\"patch_17\">\r\n    <path clip-path=\"url(#p17684f305b)\" d=\"M 258.375852 224.64 \r\nL 273.594034 224.64 \r\nL 273.594034 224.64 \r\nL 258.375852 224.64 \r\nz\r\n\" style=\"fill:#1f77b4;\"/>\r\n   </g>\r\n   <g id=\"patch_18\">\r\n    <path clip-path=\"url(#p17684f305b)\" d=\"M 273.594034 224.64 \r\nL 288.812216 224.64 \r\nL 288.812216 224.64 \r\nL 273.594034 224.64 \r\nz\r\n\" style=\"fill:#1f77b4;\"/>\r\n   </g>\r\n   <g id=\"patch_19\">\r\n    <path clip-path=\"url(#p17684f305b)\" d=\"M 288.812216 224.64 \r\nL 304.030398 224.64 \r\nL 304.030398 155.611429 \r\nL 288.812216 155.611429 \r\nz\r\n\" style=\"fill:#1f77b4;\"/>\r\n   </g>\r\n   <g id=\"patch_20\">\r\n    <path clip-path=\"url(#p17684f305b)\" d=\"M 304.030398 224.64 \r\nL 319.24858 224.64 \r\nL 319.24858 224.64 \r\nL 304.030398 224.64 \r\nz\r\n\" style=\"fill:#1f77b4;\"/>\r\n   </g>\r\n   <g id=\"patch_21\">\r\n    <path clip-path=\"url(#p17684f305b)\" d=\"M 319.24858 224.64 \r\nL 334.466761 224.64 \r\nL 334.466761 224.64 \r\nL 319.24858 224.64 \r\nz\r\n\" style=\"fill:#1f77b4;\"/>\r\n   </g>\r\n   <g id=\"patch_22\">\r\n    <path clip-path=\"url(#p17684f305b)\" d=\"M 334.466761 224.64 \r\nL 349.684943 224.64 \r\nL 349.684943 155.611429 \r\nL 334.466761 155.611429 \r\nz\r\n\" style=\"fill:#1f77b4;\"/>\r\n   </g>\r\n   <g id=\"matplotlib.axis_1\">\r\n    <g id=\"xtick_1\">\r\n     <g id=\"line2d_1\">\r\n      <path clip-path=\"url(#p17684f305b)\" d=\"M 87.129499 224.64 \r\nL 87.129499 7.2 \r\n\" style=\"fill:none;stroke:#b0b0b0;stroke-linecap:square;stroke-width:0.8;\"/>\r\n     </g>\r\n     <g id=\"line2d_2\">\r\n      <defs>\r\n       <path d=\"M 0 0 \r\nL 0 3.5 \r\n\" id=\"m59ee1b08d2\" style=\"stroke:#000000;stroke-width:0.8;\"/>\r\n      </defs>\r\n      <g>\r\n       <use style=\"stroke:#000000;stroke-width:0.8;\" x=\"87.129499\" xlink:href=\"#m59ee1b08d2\" y=\"224.64\"/>\r\n      </g>\r\n     </g>\r\n     <g id=\"text_1\">\r\n      <!-- 90 -->\r\n      <g transform=\"translate(80.766999 239.238437)scale(0.1 -0.1)\">\r\n       <defs>\r\n        <path d=\"M 10.984375 1.515625 \r\nL 10.984375 10.5 \r\nQ 14.703125 8.734375 18.5 7.8125 \r\nQ 22.3125 6.890625 25.984375 6.890625 \r\nQ 35.75 6.890625 40.890625 13.453125 \r\nQ 46.046875 20.015625 46.78125 33.40625 \r\nQ 43.953125 29.203125 39.59375 26.953125 \r\nQ 35.25 24.703125 29.984375 24.703125 \r\nQ 19.046875 24.703125 12.671875 31.3125 \r\nQ 6.296875 37.9375 6.296875 49.421875 \r\nQ 6.296875 60.640625 12.9375 67.421875 \r\nQ 19.578125 74.21875 30.609375 74.21875 \r\nQ 43.265625 74.21875 49.921875 64.515625 \r\nQ 56.59375 54.828125 56.59375 36.375 \r\nQ 56.59375 19.140625 48.40625 8.859375 \r\nQ 40.234375 -1.421875 26.421875 -1.421875 \r\nQ 22.703125 -1.421875 18.890625 -0.6875 \r\nQ 15.09375 0.046875 10.984375 1.515625 \r\nz\r\nM 30.609375 32.421875 \r\nQ 37.25 32.421875 41.125 36.953125 \r\nQ 45.015625 41.5 45.015625 49.421875 \r\nQ 45.015625 57.28125 41.125 61.84375 \r\nQ 37.25 66.40625 30.609375 66.40625 \r\nQ 23.96875 66.40625 20.09375 61.84375 \r\nQ 16.21875 57.28125 16.21875 49.421875 \r\nQ 16.21875 41.5 20.09375 36.953125 \r\nQ 23.96875 32.421875 30.609375 32.421875 \r\nz\r\n\" id=\"DejaVuSans-57\"/>\r\n        <path d=\"M 31.78125 66.40625 \r\nQ 24.171875 66.40625 20.328125 58.90625 \r\nQ 16.5 51.421875 16.5 36.375 \r\nQ 16.5 21.390625 20.328125 13.890625 \r\nQ 24.171875 6.390625 31.78125 6.390625 \r\nQ 39.453125 6.390625 43.28125 13.890625 \r\nQ 47.125 21.390625 47.125 36.375 \r\nQ 47.125 51.421875 43.28125 58.90625 \r\nQ 39.453125 66.40625 31.78125 66.40625 \r\nz\r\nM 31.78125 74.21875 \r\nQ 44.046875 74.21875 50.515625 64.515625 \r\nQ 56.984375 54.828125 56.984375 36.375 \r\nQ 56.984375 17.96875 50.515625 8.265625 \r\nQ 44.046875 -1.421875 31.78125 -1.421875 \r\nQ 19.53125 -1.421875 13.0625 8.265625 \r\nQ 6.59375 17.96875 6.59375 36.375 \r\nQ 6.59375 54.828125 13.0625 64.515625 \r\nQ 19.53125 74.21875 31.78125 74.21875 \r\nz\r\n\" id=\"DejaVuSans-48\"/>\r\n       </defs>\r\n       <use xlink:href=\"#DejaVuSans-57\"/>\r\n       <use x=\"63.623047\" xlink:href=\"#DejaVuSans-48\"/>\r\n      </g>\r\n     </g>\r\n    </g>\r\n    <g id=\"xtick_2\">\r\n     <g id=\"line2d_3\">\r\n      <path clip-path=\"url(#p17684f305b)\" d=\"M 146.855487 224.64 \r\nL 146.855487 7.2 \r\n\" style=\"fill:none;stroke:#b0b0b0;stroke-linecap:square;stroke-width:0.8;\"/>\r\n     </g>\r\n     <g id=\"line2d_4\">\r\n      <g>\r\n       <use style=\"stroke:#000000;stroke-width:0.8;\" x=\"146.855487\" xlink:href=\"#m59ee1b08d2\" y=\"224.64\"/>\r\n      </g>\r\n     </g>\r\n     <g id=\"text_2\">\r\n      <!-- 100 -->\r\n      <g transform=\"translate(137.311737 239.238437)scale(0.1 -0.1)\">\r\n       <defs>\r\n        <path d=\"M 12.40625 8.296875 \r\nL 28.515625 8.296875 \r\nL 28.515625 63.921875 \r\nL 10.984375 60.40625 \r\nL 10.984375 69.390625 \r\nL 28.421875 72.90625 \r\nL 38.28125 72.90625 \r\nL 38.28125 8.296875 \r\nL 54.390625 8.296875 \r\nL 54.390625 0 \r\nL 12.40625 0 \r\nz\r\n\" id=\"DejaVuSans-49\"/>\r\n       </defs>\r\n       <use xlink:href=\"#DejaVuSans-49\"/>\r\n       <use x=\"63.623047\" xlink:href=\"#DejaVuSans-48\"/>\r\n       <use x=\"127.246094\" xlink:href=\"#DejaVuSans-48\"/>\r\n      </g>\r\n     </g>\r\n    </g>\r\n    <g id=\"xtick_3\">\r\n     <g id=\"line2d_5\">\r\n      <path clip-path=\"url(#p17684f305b)\" d=\"M 206.581475 224.64 \r\nL 206.581475 7.2 \r\n\" style=\"fill:none;stroke:#b0b0b0;stroke-linecap:square;stroke-width:0.8;\"/>\r\n     </g>\r\n     <g id=\"line2d_6\">\r\n      <g>\r\n       <use style=\"stroke:#000000;stroke-width:0.8;\" x=\"206.581475\" xlink:href=\"#m59ee1b08d2\" y=\"224.64\"/>\r\n      </g>\r\n     </g>\r\n     <g id=\"text_3\">\r\n      <!-- 110 -->\r\n      <g transform=\"translate(197.037725 239.238437)scale(0.1 -0.1)\">\r\n       <use xlink:href=\"#DejaVuSans-49\"/>\r\n       <use x=\"63.623047\" xlink:href=\"#DejaVuSans-49\"/>\r\n       <use x=\"127.246094\" xlink:href=\"#DejaVuSans-48\"/>\r\n      </g>\r\n     </g>\r\n    </g>\r\n    <g id=\"xtick_4\">\r\n     <g id=\"line2d_7\">\r\n      <path clip-path=\"url(#p17684f305b)\" d=\"M 266.307464 224.64 \r\nL 266.307464 7.2 \r\n\" style=\"fill:none;stroke:#b0b0b0;stroke-linecap:square;stroke-width:0.8;\"/>\r\n     </g>\r\n     <g id=\"line2d_8\">\r\n      <g>\r\n       <use style=\"stroke:#000000;stroke-width:0.8;\" x=\"266.307464\" xlink:href=\"#m59ee1b08d2\" y=\"224.64\"/>\r\n      </g>\r\n     </g>\r\n     <g id=\"text_4\">\r\n      <!-- 120 -->\r\n      <g transform=\"translate(256.763714 239.238437)scale(0.1 -0.1)\">\r\n       <defs>\r\n        <path d=\"M 19.1875 8.296875 \r\nL 53.609375 8.296875 \r\nL 53.609375 0 \r\nL 7.328125 0 \r\nL 7.328125 8.296875 \r\nQ 12.9375 14.109375 22.625 23.890625 \r\nQ 32.328125 33.6875 34.8125 36.53125 \r\nQ 39.546875 41.84375 41.421875 45.53125 \r\nQ 43.3125 49.21875 43.3125 52.78125 \r\nQ 43.3125 58.59375 39.234375 62.25 \r\nQ 35.15625 65.921875 28.609375 65.921875 \r\nQ 23.96875 65.921875 18.8125 64.3125 \r\nQ 13.671875 62.703125 7.8125 59.421875 \r\nL 7.8125 69.390625 \r\nQ 13.765625 71.78125 18.9375 73 \r\nQ 24.125 74.21875 28.421875 74.21875 \r\nQ 39.75 74.21875 46.484375 68.546875 \r\nQ 53.21875 62.890625 53.21875 53.421875 \r\nQ 53.21875 48.921875 51.53125 44.890625 \r\nQ 49.859375 40.875 45.40625 35.40625 \r\nQ 44.1875 33.984375 37.640625 27.21875 \r\nQ 31.109375 20.453125 19.1875 8.296875 \r\nz\r\n\" id=\"DejaVuSans-50\"/>\r\n       </defs>\r\n       <use xlink:href=\"#DejaVuSans-49\"/>\r\n       <use x=\"63.623047\" xlink:href=\"#DejaVuSans-50\"/>\r\n       <use x=\"127.246094\" xlink:href=\"#DejaVuSans-48\"/>\r\n      </g>\r\n     </g>\r\n    </g>\r\n    <g id=\"xtick_5\">\r\n     <g id=\"line2d_9\">\r\n      <path clip-path=\"url(#p17684f305b)\" d=\"M 326.033452 224.64 \r\nL 326.033452 7.2 \r\n\" style=\"fill:none;stroke:#b0b0b0;stroke-linecap:square;stroke-width:0.8;\"/>\r\n     </g>\r\n     <g id=\"line2d_10\">\r\n      <g>\r\n       <use style=\"stroke:#000000;stroke-width:0.8;\" x=\"326.033452\" xlink:href=\"#m59ee1b08d2\" y=\"224.64\"/>\r\n      </g>\r\n     </g>\r\n     <g id=\"text_5\">\r\n      <!-- 130 -->\r\n      <g transform=\"translate(316.489702 239.238437)scale(0.1 -0.1)\">\r\n       <defs>\r\n        <path d=\"M 40.578125 39.3125 \r\nQ 47.65625 37.796875 51.625 33 \r\nQ 55.609375 28.21875 55.609375 21.1875 \r\nQ 55.609375 10.40625 48.1875 4.484375 \r\nQ 40.765625 -1.421875 27.09375 -1.421875 \r\nQ 22.515625 -1.421875 17.65625 -0.515625 \r\nQ 12.796875 0.390625 7.625 2.203125 \r\nL 7.625 11.71875 \r\nQ 11.71875 9.328125 16.59375 8.109375 \r\nQ 21.484375 6.890625 26.8125 6.890625 \r\nQ 36.078125 6.890625 40.9375 10.546875 \r\nQ 45.796875 14.203125 45.796875 21.1875 \r\nQ 45.796875 27.640625 41.28125 31.265625 \r\nQ 36.765625 34.90625 28.71875 34.90625 \r\nL 20.21875 34.90625 \r\nL 20.21875 43.015625 \r\nL 29.109375 43.015625 \r\nQ 36.375 43.015625 40.234375 45.921875 \r\nQ 44.09375 48.828125 44.09375 54.296875 \r\nQ 44.09375 59.90625 40.109375 62.90625 \r\nQ 36.140625 65.921875 28.71875 65.921875 \r\nQ 24.65625 65.921875 20.015625 65.03125 \r\nQ 15.375 64.15625 9.8125 62.3125 \r\nL 9.8125 71.09375 \r\nQ 15.4375 72.65625 20.34375 73.4375 \r\nQ 25.25 74.21875 29.59375 74.21875 \r\nQ 40.828125 74.21875 47.359375 69.109375 \r\nQ 53.90625 64.015625 53.90625 55.328125 \r\nQ 53.90625 49.265625 50.4375 45.09375 \r\nQ 46.96875 40.921875 40.578125 39.3125 \r\nz\r\n\" id=\"DejaVuSans-51\"/>\r\n       </defs>\r\n       <use xlink:href=\"#DejaVuSans-49\"/>\r\n       <use x=\"63.623047\" xlink:href=\"#DejaVuSans-51\"/>\r\n       <use x=\"127.246094\" xlink:href=\"#DejaVuSans-48\"/>\r\n      </g>\r\n     </g>\r\n    </g>\r\n   </g>\r\n   <g id=\"matplotlib.axis_2\">\r\n    <g id=\"ytick_1\">\r\n     <g id=\"line2d_11\">\r\n      <path clip-path=\"url(#p17684f305b)\" d=\"M 30.103125 224.64 \r\nL 364.903125 224.64 \r\n\" style=\"fill:none;stroke:#b0b0b0;stroke-linecap:square;stroke-width:0.8;\"/>\r\n     </g>\r\n     <g id=\"line2d_12\">\r\n      <defs>\r\n       <path d=\"M 0 0 \r\nL -3.5 0 \r\n\" id=\"mbc66be9880\" style=\"stroke:#000000;stroke-width:0.8;\"/>\r\n      </defs>\r\n      <g>\r\n       <use style=\"stroke:#000000;stroke-width:0.8;\" x=\"30.103125\" xlink:href=\"#mbc66be9880\" y=\"224.64\"/>\r\n      </g>\r\n     </g>\r\n     <g id=\"text_6\">\r\n      <!-- 0.0 -->\r\n      <g transform=\"translate(7.2 228.439219)scale(0.1 -0.1)\">\r\n       <defs>\r\n        <path d=\"M 10.6875 12.40625 \r\nL 21 12.40625 \r\nL 21 0 \r\nL 10.6875 0 \r\nz\r\n\" id=\"DejaVuSans-46\"/>\r\n       </defs>\r\n       <use xlink:href=\"#DejaVuSans-48\"/>\r\n       <use x=\"63.623047\" xlink:href=\"#DejaVuSans-46\"/>\r\n       <use x=\"95.410156\" xlink:href=\"#DejaVuSans-48\"/>\r\n      </g>\r\n     </g>\r\n    </g>\r\n    <g id=\"ytick_2\">\r\n     <g id=\"line2d_13\">\r\n      <path clip-path=\"url(#p17684f305b)\" d=\"M 30.103125 190.125714 \r\nL 364.903125 190.125714 \r\n\" style=\"fill:none;stroke:#b0b0b0;stroke-linecap:square;stroke-width:0.8;\"/>\r\n     </g>\r\n     <g id=\"line2d_14\">\r\n      <g>\r\n       <use style=\"stroke:#000000;stroke-width:0.8;\" x=\"30.103125\" xlink:href=\"#mbc66be9880\" y=\"190.125714\"/>\r\n      </g>\r\n     </g>\r\n     <g id=\"text_7\">\r\n      <!-- 0.5 -->\r\n      <g transform=\"translate(7.2 193.924933)scale(0.1 -0.1)\">\r\n       <defs>\r\n        <path d=\"M 10.796875 72.90625 \r\nL 49.515625 72.90625 \r\nL 49.515625 64.59375 \r\nL 19.828125 64.59375 \r\nL 19.828125 46.734375 \r\nQ 21.96875 47.46875 24.109375 47.828125 \r\nQ 26.265625 48.1875 28.421875 48.1875 \r\nQ 40.625 48.1875 47.75 41.5 \r\nQ 54.890625 34.8125 54.890625 23.390625 \r\nQ 54.890625 11.625 47.5625 5.09375 \r\nQ 40.234375 -1.421875 26.90625 -1.421875 \r\nQ 22.3125 -1.421875 17.546875 -0.640625 \r\nQ 12.796875 0.140625 7.71875 1.703125 \r\nL 7.71875 11.625 \r\nQ 12.109375 9.234375 16.796875 8.0625 \r\nQ 21.484375 6.890625 26.703125 6.890625 \r\nQ 35.15625 6.890625 40.078125 11.328125 \r\nQ 45.015625 15.765625 45.015625 23.390625 \r\nQ 45.015625 31 40.078125 35.4375 \r\nQ 35.15625 39.890625 26.703125 39.890625 \r\nQ 22.75 39.890625 18.8125 39.015625 \r\nQ 14.890625 38.140625 10.796875 36.28125 \r\nz\r\n\" id=\"DejaVuSans-53\"/>\r\n       </defs>\r\n       <use xlink:href=\"#DejaVuSans-48\"/>\r\n       <use x=\"63.623047\" xlink:href=\"#DejaVuSans-46\"/>\r\n       <use x=\"95.410156\" xlink:href=\"#DejaVuSans-53\"/>\r\n      </g>\r\n     </g>\r\n    </g>\r\n    <g id=\"ytick_3\">\r\n     <g id=\"line2d_15\">\r\n      <path clip-path=\"url(#p17684f305b)\" d=\"M 30.103125 155.611429 \r\nL 364.903125 155.611429 \r\n\" style=\"fill:none;stroke:#b0b0b0;stroke-linecap:square;stroke-width:0.8;\"/>\r\n     </g>\r\n     <g id=\"line2d_16\">\r\n      <g>\r\n       <use style=\"stroke:#000000;stroke-width:0.8;\" x=\"30.103125\" xlink:href=\"#mbc66be9880\" y=\"155.611429\"/>\r\n      </g>\r\n     </g>\r\n     <g id=\"text_8\">\r\n      <!-- 1.0 -->\r\n      <g transform=\"translate(7.2 159.410647)scale(0.1 -0.1)\">\r\n       <use xlink:href=\"#DejaVuSans-49\"/>\r\n       <use x=\"63.623047\" xlink:href=\"#DejaVuSans-46\"/>\r\n       <use x=\"95.410156\" xlink:href=\"#DejaVuSans-48\"/>\r\n      </g>\r\n     </g>\r\n    </g>\r\n    <g id=\"ytick_4\">\r\n     <g id=\"line2d_17\">\r\n      <path clip-path=\"url(#p17684f305b)\" d=\"M 30.103125 121.097143 \r\nL 364.903125 121.097143 \r\n\" style=\"fill:none;stroke:#b0b0b0;stroke-linecap:square;stroke-width:0.8;\"/>\r\n     </g>\r\n     <g id=\"line2d_18\">\r\n      <g>\r\n       <use style=\"stroke:#000000;stroke-width:0.8;\" x=\"30.103125\" xlink:href=\"#mbc66be9880\" y=\"121.097143\"/>\r\n      </g>\r\n     </g>\r\n     <g id=\"text_9\">\r\n      <!-- 1.5 -->\r\n      <g transform=\"translate(7.2 124.896362)scale(0.1 -0.1)\">\r\n       <use xlink:href=\"#DejaVuSans-49\"/>\r\n       <use x=\"63.623047\" xlink:href=\"#DejaVuSans-46\"/>\r\n       <use x=\"95.410156\" xlink:href=\"#DejaVuSans-53\"/>\r\n      </g>\r\n     </g>\r\n    </g>\r\n    <g id=\"ytick_5\">\r\n     <g id=\"line2d_19\">\r\n      <path clip-path=\"url(#p17684f305b)\" d=\"M 30.103125 86.582857 \r\nL 364.903125 86.582857 \r\n\" style=\"fill:none;stroke:#b0b0b0;stroke-linecap:square;stroke-width:0.8;\"/>\r\n     </g>\r\n     <g id=\"line2d_20\">\r\n      <g>\r\n       <use style=\"stroke:#000000;stroke-width:0.8;\" x=\"30.103125\" xlink:href=\"#mbc66be9880\" y=\"86.582857\"/>\r\n      </g>\r\n     </g>\r\n     <g id=\"text_10\">\r\n      <!-- 2.0 -->\r\n      <g transform=\"translate(7.2 90.382076)scale(0.1 -0.1)\">\r\n       <use xlink:href=\"#DejaVuSans-50\"/>\r\n       <use x=\"63.623047\" xlink:href=\"#DejaVuSans-46\"/>\r\n       <use x=\"95.410156\" xlink:href=\"#DejaVuSans-48\"/>\r\n      </g>\r\n     </g>\r\n    </g>\r\n    <g id=\"ytick_6\">\r\n     <g id=\"line2d_21\">\r\n      <path clip-path=\"url(#p17684f305b)\" d=\"M 30.103125 52.068571 \r\nL 364.903125 52.068571 \r\n\" style=\"fill:none;stroke:#b0b0b0;stroke-linecap:square;stroke-width:0.8;\"/>\r\n     </g>\r\n     <g id=\"line2d_22\">\r\n      <g>\r\n       <use style=\"stroke:#000000;stroke-width:0.8;\" x=\"30.103125\" xlink:href=\"#mbc66be9880\" y=\"52.068571\"/>\r\n      </g>\r\n     </g>\r\n     <g id=\"text_11\">\r\n      <!-- 2.5 -->\r\n      <g transform=\"translate(7.2 55.86779)scale(0.1 -0.1)\">\r\n       <use xlink:href=\"#DejaVuSans-50\"/>\r\n       <use x=\"63.623047\" xlink:href=\"#DejaVuSans-46\"/>\r\n       <use x=\"95.410156\" xlink:href=\"#DejaVuSans-53\"/>\r\n      </g>\r\n     </g>\r\n    </g>\r\n    <g id=\"ytick_7\">\r\n     <g id=\"line2d_23\">\r\n      <path clip-path=\"url(#p17684f305b)\" d=\"M 30.103125 17.554286 \r\nL 364.903125 17.554286 \r\n\" style=\"fill:none;stroke:#b0b0b0;stroke-linecap:square;stroke-width:0.8;\"/>\r\n     </g>\r\n     <g id=\"line2d_24\">\r\n      <g>\r\n       <use style=\"stroke:#000000;stroke-width:0.8;\" x=\"30.103125\" xlink:href=\"#mbc66be9880\" y=\"17.554286\"/>\r\n      </g>\r\n     </g>\r\n     <g id=\"text_12\">\r\n      <!-- 3.0 -->\r\n      <g transform=\"translate(7.2 21.353504)scale(0.1 -0.1)\">\r\n       <use xlink:href=\"#DejaVuSans-51\"/>\r\n       <use x=\"63.623047\" xlink:href=\"#DejaVuSans-46\"/>\r\n       <use x=\"95.410156\" xlink:href=\"#DejaVuSans-48\"/>\r\n      </g>\r\n     </g>\r\n    </g>\r\n   </g>\r\n   <g id=\"patch_23\">\r\n    <path d=\"M 30.103125 224.64 \r\nL 30.103125 7.2 \r\n\" style=\"fill:none;stroke:#000000;stroke-linecap:square;stroke-linejoin:miter;stroke-width:0.8;\"/>\r\n   </g>\r\n   <g id=\"patch_24\">\r\n    <path d=\"M 364.903125 224.64 \r\nL 364.903125 7.2 \r\n\" style=\"fill:none;stroke:#000000;stroke-linecap:square;stroke-linejoin:miter;stroke-width:0.8;\"/>\r\n   </g>\r\n   <g id=\"patch_25\">\r\n    <path d=\"M 30.103125 224.64 \r\nL 364.903125 224.64 \r\n\" style=\"fill:none;stroke:#000000;stroke-linecap:square;stroke-linejoin:miter;stroke-width:0.8;\"/>\r\n   </g>\r\n   <g id=\"patch_26\">\r\n    <path d=\"M 30.103125 7.2 \r\nL 364.903125 7.2 \r\n\" style=\"fill:none;stroke:#000000;stroke-linecap:square;stroke-linejoin:miter;stroke-width:0.8;\"/>\r\n   </g>\r\n  </g>\r\n </g>\r\n <defs>\r\n  <clipPath id=\"p17684f305b\">\r\n   <rect height=\"217.44\" width=\"334.8\" x=\"30.103125\" y=\"7.2\"/>\r\n  </clipPath>\r\n </defs>\r\n</svg>\r\n",
      "image/png": "[encoded data removed]"
     },
     "metadata": {
      "needs_background": "light"
     }
    }
   ],
   "source": [
    "histogram_data['runtime'].hist(bins=20)"
   ]
  },
  {
   "cell_type": "code",
   "execution_count": 123,
   "metadata": {},
   "outputs": [
    {
     "output_type": "execute_result",
     "data": {
      "text/plain": [
       "3928    183.0\n",
       "3929    140.0\n",
       "3930    149.0\n",
       "3931    134.0\n",
       "3932    192.0\n",
       "3933    130.0\n",
       "3934    140.0\n",
       "3935    144.0\n",
       "3936    128.0\n",
       "3937    124.0\n",
       "3938    127.0\n",
       "3939    128.0\n",
       "3940    120.0\n",
       "3941    113.0\n",
       "3942    105.0\n",
       "3943    120.0\n",
       "3944    150.0\n",
       "3945    117.0\n",
       "3946    110.0\n",
       "3947    145.0\n",
       "3948    110.0\n",
       "3949    139.0\n",
       "3950     92.0\n",
       "3951    225.0\n",
       "3952     84.0\n",
       "Name: runtime, dtype: float64"
      ]
     },
     "metadata": {},
     "execution_count": 123
    }
   ],
   "source": [
    "history_movies = merged_list[(merged_list['genres']=='History')]['runtime']\n",
    "history_movies\n"
   ]
  },
  {
   "cell_type": "code",
   "execution_count": 124,
   "metadata": {},
   "outputs": [
    {
     "output_type": "execute_result",
     "data": {
      "text/plain": [
       "      runtime\n",
       "3928    183.0\n",
       "3929    140.0\n",
       "3930    149.0\n",
       "3931    134.0\n",
       "3932    192.0\n",
       "3933    130.0\n",
       "3934    140.0\n",
       "3935    144.0\n",
       "3936    128.0\n",
       "3937    124.0\n",
       "3938    127.0\n",
       "3939    128.0\n",
       "3940    120.0\n",
       "3941    113.0\n",
       "3942    105.0\n",
       "3943    120.0\n",
       "3944    150.0\n",
       "3945    117.0\n",
       "3946    110.0\n",
       "3947    145.0\n",
       "3948    110.0\n",
       "3949    139.0\n",
       "3950     92.0\n",
       "3951    225.0\n",
       "3952     84.0"
      ],
      "text/html": "<div>\n<style scoped>\n    .dataframe tbody tr th:only-of-type {\n        vertical-align: middle;\n    }\n\n    .dataframe tbody tr th {\n        vertical-align: top;\n    }\n\n    .dataframe thead th {\n        text-align: right;\n    }\n</style>\n<table border=\"1\" class=\"dataframe\">\n  <thead>\n    <tr style=\"text-align: right;\">\n      <th></th>\n      <th>runtime</th>\n    </tr>\n  </thead>\n  <tbody>\n    <tr>\n      <th>3928</th>\n      <td>183.0</td>\n    </tr>\n    <tr>\n      <th>3929</th>\n      <td>140.0</td>\n    </tr>\n    <tr>\n      <th>3930</th>\n      <td>149.0</td>\n    </tr>\n    <tr>\n      <th>3931</th>\n      <td>134.0</td>\n    </tr>\n    <tr>\n      <th>3932</th>\n      <td>192.0</td>\n    </tr>\n    <tr>\n      <th>3933</th>\n      <td>130.0</td>\n    </tr>\n    <tr>\n      <th>3934</th>\n      <td>140.0</td>\n    </tr>\n    <tr>\n      <th>3935</th>\n      <td>144.0</td>\n    </tr>\n    <tr>\n      <th>3936</th>\n      <td>128.0</td>\n    </tr>\n    <tr>\n      <th>3937</th>\n      <td>124.0</td>\n    </tr>\n    <tr>\n      <th>3938</th>\n      <td>127.0</td>\n    </tr>\n    <tr>\n      <th>3939</th>\n      <td>128.0</td>\n    </tr>\n    <tr>\n      <th>3940</th>\n      <td>120.0</td>\n    </tr>\n    <tr>\n      <th>3941</th>\n      <td>113.0</td>\n    </tr>\n    <tr>\n      <th>3942</th>\n      <td>105.0</td>\n    </tr>\n    <tr>\n      <th>3943</th>\n      <td>120.0</td>\n    </tr>\n    <tr>\n      <th>3944</th>\n      <td>150.0</td>\n    </tr>\n    <tr>\n      <th>3945</th>\n      <td>117.0</td>\n    </tr>\n    <tr>\n      <th>3946</th>\n      <td>110.0</td>\n    </tr>\n    <tr>\n      <th>3947</th>\n      <td>145.0</td>\n    </tr>\n    <tr>\n      <th>3948</th>\n      <td>110.0</td>\n    </tr>\n    <tr>\n      <th>3949</th>\n      <td>139.0</td>\n    </tr>\n    <tr>\n      <th>3950</th>\n      <td>92.0</td>\n    </tr>\n    <tr>\n      <th>3951</th>\n      <td>225.0</td>\n    </tr>\n    <tr>\n      <th>3952</th>\n      <td>84.0</td>\n    </tr>\n  </tbody>\n</table>\n</div>"
     },
     "metadata": {},
     "execution_count": 124
    }
   ],
   "source": [
    "history_movies = pd.DataFrame(history_movies)\n",
    "history_movies"
   ]
  },
  {
   "cell_type": "code",
   "execution_count": 127,
   "metadata": {},
   "outputs": [
    {
     "output_type": "execute_result",
     "data": {
      "text/plain": [
       "<AxesSubplot:>"
      ]
     },
     "metadata": {},
     "execution_count": 127
    },
    {
     "output_type": "display_data",
     "data": {
      "text/plain": "<Figure size 432x288 with 1 Axes>",
      "image/svg+xml": "<?xml version=\"1.0\" encoding=\"utf-8\" standalone=\"no\"?>\r\n<!DOCTYPE svg PUBLIC \"-//W3C//DTD SVG 1.1//EN\"\r\n  \"http://www.w3.org/Graphics/SVG/1.1/DTD/svg11.dtd\">\r\n<!-- Created with matplotlib (https://matplotlib.org/) -->\r\n<svg height=\"248.518125pt\" version=\"1.1\" viewBox=\"0 0 372.103125 248.518125\" width=\"372.103125pt\" xmlns=\"http://www.w3.org/2000/svg\" xmlns:xlink=\"http://www.w3.org/1999/xlink\">\r\n <metadata>\r\n  <rdf:RDF xmlns:cc=\"http://creativecommons.org/ns#\" xmlns:dc=\"http://purl.org/dc/elements/1.1/\" xmlns:rdf=\"http://www.w3.org/1999/02/22-rdf-syntax-ns#\">\r\n   <cc:Work>\r\n    <dc:type rdf:resource=\"http://purl.org/dc/dcmitype/StillImage\"/>\r\n    <dc:date>2020-11-15T14:27:24.459223</dc:date>\r\n    <dc:format>image/svg+xml</dc:format>\r\n    <dc:creator>\r\n     <cc:Agent>\r\n      <dc:title>Matplotlib v3.3.1, https://matplotlib.org/</dc:title>\r\n     </cc:Agent>\r\n    </dc:creator>\r\n   </cc:Work>\r\n  </rdf:RDF>\r\n </metadata>\r\n <defs>\r\n  <style type=\"text/css\">*{stroke-linecap:butt;stroke-linejoin:round;}</style>\r\n </defs>\r\n <g id=\"figure_1\">\r\n  <g id=\"patch_1\">\r\n   <path d=\"M 0 248.518125 \r\nL 372.103125 248.518125 \r\nL 372.103125 0 \r\nL 0 0 \r\nz\r\n\" style=\"fill:none;\"/>\r\n  </g>\r\n  <g id=\"axes_1\">\r\n   <g id=\"patch_2\">\r\n    <path d=\"M 30.103125 224.64 \r\nL 364.903125 224.64 \r\nL 364.903125 7.2 \r\nL 30.103125 7.2 \r\nz\r\n\" style=\"fill:#ffffff;\"/>\r\n   </g>\r\n   <g id=\"patch_3\">\r\n    <path clip-path=\"url(#p7be9556a61)\" d=\"M 45.321307 224.64 \r\nL 55.466761 224.64 \r\nL 55.466761 172.868571 \r\nL 45.321307 172.868571 \r\nz\r\n\" style=\"fill:#1f77b4;\"/>\r\n   </g>\r\n   <g id=\"patch_4\">\r\n    <path clip-path=\"url(#p7be9556a61)\" d=\"M 55.466761 224.64 \r\nL 65.612216 224.64 \r\nL 65.612216 172.868571 \r\nL 55.466761 172.868571 \r\nz\r\n\" style=\"fill:#1f77b4;\"/>\r\n   </g>\r\n   <g id=\"patch_5\">\r\n    <path clip-path=\"url(#p7be9556a61)\" d=\"M 65.612216 224.64 \r\nL 75.75767 224.64 \r\nL 75.75767 224.64 \r\nL 65.612216 224.64 \r\nz\r\n\" style=\"fill:#1f77b4;\"/>\r\n   </g>\r\n   <g id=\"patch_6\">\r\n    <path clip-path=\"url(#p7be9556a61)\" d=\"M 75.75767 224.64 \r\nL 85.903125 224.64 \r\nL 85.903125 224.64 \r\nL 75.75767 224.64 \r\nz\r\n\" style=\"fill:#1f77b4;\"/>\r\n   </g>\r\n   <g id=\"patch_7\">\r\n    <path clip-path=\"url(#p7be9556a61)\" d=\"M 85.903125 224.64 \r\nL 96.04858 224.64 \r\nL 96.04858 172.868571 \r\nL 85.903125 172.868571 \r\nz\r\n\" style=\"fill:#1f77b4;\"/>\r\n   </g>\r\n   <g id=\"patch_8\">\r\n    <path clip-path=\"url(#p7be9556a61)\" d=\"M 96.04858 224.64 \r\nL 106.194034 224.64 \r\nL 106.194034 121.097143 \r\nL 96.04858 121.097143 \r\nz\r\n\" style=\"fill:#1f77b4;\"/>\r\n   </g>\r\n   <g id=\"patch_9\">\r\n    <path clip-path=\"url(#p7be9556a61)\" d=\"M 106.194034 224.64 \r\nL 116.339489 224.64 \r\nL 116.339489 172.868571 \r\nL 106.194034 172.868571 \r\nz\r\n\" style=\"fill:#1f77b4;\"/>\r\n   </g>\r\n   <g id=\"patch_10\">\r\n    <path clip-path=\"url(#p7be9556a61)\" d=\"M 116.339489 224.64 \r\nL 126.484943 224.64 \r\nL 126.484943 69.325714 \r\nL 116.339489 69.325714 \r\nz\r\n\" style=\"fill:#1f77b4;\"/>\r\n   </g>\r\n   <g id=\"patch_11\">\r\n    <path clip-path=\"url(#p7be9556a61)\" d=\"M 126.484943 224.64 \r\nL 136.630398 224.64 \r\nL 136.630398 172.868571 \r\nL 126.484943 172.868571 \r\nz\r\n\" style=\"fill:#1f77b4;\"/>\r\n   </g>\r\n   <g id=\"patch_12\">\r\n    <path clip-path=\"url(#p7be9556a61)\" d=\"M 136.630398 224.64 \r\nL 146.775852 224.64 \r\nL 146.775852 17.554286 \r\nL 136.630398 17.554286 \r\nz\r\n\" style=\"fill:#1f77b4;\"/>\r\n   </g>\r\n   <g id=\"patch_13\">\r\n    <path clip-path=\"url(#p7be9556a61)\" d=\"M 146.775852 224.64 \r\nL 156.921307 224.64 \r\nL 156.921307 172.868571 \r\nL 146.775852 172.868571 \r\nz\r\n\" style=\"fill:#1f77b4;\"/>\r\n   </g>\r\n   <g id=\"patch_14\">\r\n    <path clip-path=\"url(#p7be9556a61)\" d=\"M 156.921307 224.64 \r\nL 167.066761 224.64 \r\nL 167.066761 69.325714 \r\nL 156.921307 69.325714 \r\nz\r\n\" style=\"fill:#1f77b4;\"/>\r\n   </g>\r\n   <g id=\"patch_15\">\r\n    <path clip-path=\"url(#p7be9556a61)\" d=\"M 167.066761 224.64 \r\nL 177.212216 224.64 \r\nL 177.212216 121.097143 \r\nL 167.066761 121.097143 \r\nz\r\n\" style=\"fill:#1f77b4;\"/>\r\n   </g>\r\n   <g id=\"patch_16\">\r\n    <path clip-path=\"url(#p7be9556a61)\" d=\"M 177.212216 224.64 \r\nL 187.35767 224.64 \r\nL 187.35767 172.868571 \r\nL 177.212216 172.868571 \r\nz\r\n\" style=\"fill:#1f77b4;\"/>\r\n   </g>\r\n   <g id=\"patch_17\">\r\n    <path clip-path=\"url(#p7be9556a61)\" d=\"M 187.35767 224.64 \r\nL 197.503125 224.64 \r\nL 197.503125 172.868571 \r\nL 187.35767 172.868571 \r\nz\r\n\" style=\"fill:#1f77b4;\"/>\r\n   </g>\r\n   <g id=\"patch_18\">\r\n    <path clip-path=\"url(#p7be9556a61)\" d=\"M 197.503125 224.64 \r\nL 207.64858 224.64 \r\nL 207.64858 224.64 \r\nL 197.503125 224.64 \r\nz\r\n\" style=\"fill:#1f77b4;\"/>\r\n   </g>\r\n   <g id=\"patch_19\">\r\n    <path clip-path=\"url(#p7be9556a61)\" d=\"M 207.64858 224.64 \r\nL 217.794034 224.64 \r\nL 217.794034 224.64 \r\nL 207.64858 224.64 \r\nz\r\n\" style=\"fill:#1f77b4;\"/>\r\n   </g>\r\n   <g id=\"patch_20\">\r\n    <path clip-path=\"url(#p7be9556a61)\" d=\"M 217.794034 224.64 \r\nL 227.939489 224.64 \r\nL 227.939489 224.64 \r\nL 217.794034 224.64 \r\nz\r\n\" style=\"fill:#1f77b4;\"/>\r\n   </g>\r\n   <g id=\"patch_21\">\r\n    <path clip-path=\"url(#p7be9556a61)\" d=\"M 227.939489 224.64 \r\nL 238.084943 224.64 \r\nL 238.084943 224.64 \r\nL 227.939489 224.64 \r\nz\r\n\" style=\"fill:#1f77b4;\"/>\r\n   </g>\r\n   <g id=\"patch_22\">\r\n    <path clip-path=\"url(#p7be9556a61)\" d=\"M 238.084943 224.64 \r\nL 248.230398 224.64 \r\nL 248.230398 224.64 \r\nL 238.084943 224.64 \r\nz\r\n\" style=\"fill:#1f77b4;\"/>\r\n   </g>\r\n   <g id=\"patch_23\">\r\n    <path clip-path=\"url(#p7be9556a61)\" d=\"M 248.230398 224.64 \r\nL 258.375852 224.64 \r\nL 258.375852 224.64 \r\nL 248.230398 224.64 \r\nz\r\n\" style=\"fill:#1f77b4;\"/>\r\n   </g>\r\n   <g id=\"patch_24\">\r\n    <path clip-path=\"url(#p7be9556a61)\" d=\"M 258.375852 224.64 \r\nL 268.521307 224.64 \r\nL 268.521307 172.868571 \r\nL 258.375852 172.868571 \r\nz\r\n\" style=\"fill:#1f77b4;\"/>\r\n   </g>\r\n   <g id=\"patch_25\">\r\n    <path clip-path=\"url(#p7be9556a61)\" d=\"M 268.521307 224.64 \r\nL 278.666761 224.64 \r\nL 278.666761 172.868571 \r\nL 268.521307 172.868571 \r\nz\r\n\" style=\"fill:#1f77b4;\"/>\r\n   </g>\r\n   <g id=\"patch_26\">\r\n    <path clip-path=\"url(#p7be9556a61)\" d=\"M 278.666761 224.64 \r\nL 288.812216 224.64 \r\nL 288.812216 224.64 \r\nL 278.666761 224.64 \r\nz\r\n\" style=\"fill:#1f77b4;\"/>\r\n   </g>\r\n   <g id=\"patch_27\">\r\n    <path clip-path=\"url(#p7be9556a61)\" d=\"M 288.812216 224.64 \r\nL 298.95767 224.64 \r\nL 298.95767 224.64 \r\nL 288.812216 224.64 \r\nz\r\n\" style=\"fill:#1f77b4;\"/>\r\n   </g>\r\n   <g id=\"patch_28\">\r\n    <path clip-path=\"url(#p7be9556a61)\" d=\"M 298.95767 224.64 \r\nL 309.103125 224.64 \r\nL 309.103125 224.64 \r\nL 298.95767 224.64 \r\nz\r\n\" style=\"fill:#1f77b4;\"/>\r\n   </g>\r\n   <g id=\"patch_29\">\r\n    <path clip-path=\"url(#p7be9556a61)\" d=\"M 309.103125 224.64 \r\nL 319.24858 224.64 \r\nL 319.24858 224.64 \r\nL 309.103125 224.64 \r\nz\r\n\" style=\"fill:#1f77b4;\"/>\r\n   </g>\r\n   <g id=\"patch_30\">\r\n    <path clip-path=\"url(#p7be9556a61)\" d=\"M 319.24858 224.64 \r\nL 329.394034 224.64 \r\nL 329.394034 224.64 \r\nL 319.24858 224.64 \r\nz\r\n\" style=\"fill:#1f77b4;\"/>\r\n   </g>\r\n   <g id=\"patch_31\">\r\n    <path clip-path=\"url(#p7be9556a61)\" d=\"M 329.394034 224.64 \r\nL 339.539489 224.64 \r\nL 339.539489 224.64 \r\nL 329.394034 224.64 \r\nz\r\n\" style=\"fill:#1f77b4;\"/>\r\n   </g>\r\n   <g id=\"patch_32\">\r\n    <path clip-path=\"url(#p7be9556a61)\" d=\"M 339.539489 224.64 \r\nL 349.684943 224.64 \r\nL 349.684943 172.868571 \r\nL 339.539489 172.868571 \r\nz\r\n\" style=\"fill:#1f77b4;\"/>\r\n   </g>\r\n   <g id=\"matplotlib.axis_1\">\r\n    <g id=\"xtick_1\">\r\n     <g id=\"line2d_1\">\r\n      <path clip-path=\"url(#p7be9556a61)\" d=\"M 36.686877 224.64 \r\nL 36.686877 7.2 \r\n\" style=\"fill:none;stroke:#b0b0b0;stroke-linecap:square;stroke-width:0.8;\"/>\r\n     </g>\r\n     <g id=\"line2d_2\">\r\n      <defs>\r\n       <path d=\"M 0 0 \r\nL 0 3.5 \r\n\" id=\"m655a2eb90c\" style=\"stroke:#000000;stroke-width:0.8;\"/>\r\n      </defs>\r\n      <g>\r\n       <use style=\"stroke:#000000;stroke-width:0.8;\" x=\"36.686877\" xlink:href=\"#m655a2eb90c\" y=\"224.64\"/>\r\n      </g>\r\n     </g>\r\n     <g id=\"text_1\">\r\n      <!-- 80 -->\r\n      <g transform=\"translate(30.324377 239.238437)scale(0.1 -0.1)\">\r\n       <defs>\r\n        <path d=\"M 31.78125 34.625 \r\nQ 24.75 34.625 20.71875 30.859375 \r\nQ 16.703125 27.09375 16.703125 20.515625 \r\nQ 16.703125 13.921875 20.71875 10.15625 \r\nQ 24.75 6.390625 31.78125 6.390625 \r\nQ 38.8125 6.390625 42.859375 10.171875 \r\nQ 46.921875 13.96875 46.921875 20.515625 \r\nQ 46.921875 27.09375 42.890625 30.859375 \r\nQ 38.875 34.625 31.78125 34.625 \r\nz\r\nM 21.921875 38.8125 \r\nQ 15.578125 40.375 12.03125 44.71875 \r\nQ 8.5 49.078125 8.5 55.328125 \r\nQ 8.5 64.0625 14.71875 69.140625 \r\nQ 20.953125 74.21875 31.78125 74.21875 \r\nQ 42.671875 74.21875 48.875 69.140625 \r\nQ 55.078125 64.0625 55.078125 55.328125 \r\nQ 55.078125 49.078125 51.53125 44.71875 \r\nQ 48 40.375 41.703125 38.8125 \r\nQ 48.828125 37.15625 52.796875 32.3125 \r\nQ 56.78125 27.484375 56.78125 20.515625 \r\nQ 56.78125 9.90625 50.3125 4.234375 \r\nQ 43.84375 -1.421875 31.78125 -1.421875 \r\nQ 19.734375 -1.421875 13.25 4.234375 \r\nQ 6.78125 9.90625 6.78125 20.515625 \r\nQ 6.78125 27.484375 10.78125 32.3125 \r\nQ 14.796875 37.15625 21.921875 38.8125 \r\nz\r\nM 18.3125 54.390625 \r\nQ 18.3125 48.734375 21.84375 45.5625 \r\nQ 25.390625 42.390625 31.78125 42.390625 \r\nQ 38.140625 42.390625 41.71875 45.5625 \r\nQ 45.3125 48.734375 45.3125 54.390625 \r\nQ 45.3125 60.0625 41.71875 63.234375 \r\nQ 38.140625 66.40625 31.78125 66.40625 \r\nQ 25.390625 66.40625 21.84375 63.234375 \r\nQ 18.3125 60.0625 18.3125 54.390625 \r\nz\r\n\" id=\"DejaVuSans-56\"/>\r\n        <path d=\"M 31.78125 66.40625 \r\nQ 24.171875 66.40625 20.328125 58.90625 \r\nQ 16.5 51.421875 16.5 36.375 \r\nQ 16.5 21.390625 20.328125 13.890625 \r\nQ 24.171875 6.390625 31.78125 6.390625 \r\nQ 39.453125 6.390625 43.28125 13.890625 \r\nQ 47.125 21.390625 47.125 36.375 \r\nQ 47.125 51.421875 43.28125 58.90625 \r\nQ 39.453125 66.40625 31.78125 66.40625 \r\nz\r\nM 31.78125 74.21875 \r\nQ 44.046875 74.21875 50.515625 64.515625 \r\nQ 56.984375 54.828125 56.984375 36.375 \r\nQ 56.984375 17.96875 50.515625 8.265625 \r\nQ 44.046875 -1.421875 31.78125 -1.421875 \r\nQ 19.53125 -1.421875 13.0625 8.265625 \r\nQ 6.59375 17.96875 6.59375 36.375 \r\nQ 6.59375 54.828125 13.0625 64.515625 \r\nQ 19.53125 74.21875 31.78125 74.21875 \r\nz\r\n\" id=\"DejaVuSans-48\"/>\r\n       </defs>\r\n       <use xlink:href=\"#DejaVuSans-56\"/>\r\n       <use x=\"63.623047\" xlink:href=\"#DejaVuSans-48\"/>\r\n      </g>\r\n     </g>\r\n    </g>\r\n    <g id=\"xtick_2\">\r\n     <g id=\"line2d_3\">\r\n      <path clip-path=\"url(#p7be9556a61)\" d=\"M 79.859024 224.64 \r\nL 79.859024 7.2 \r\n\" style=\"fill:none;stroke:#b0b0b0;stroke-linecap:square;stroke-width:0.8;\"/>\r\n     </g>\r\n     <g id=\"line2d_4\">\r\n      <g>\r\n       <use style=\"stroke:#000000;stroke-width:0.8;\" x=\"79.859024\" xlink:href=\"#m655a2eb90c\" y=\"224.64\"/>\r\n      </g>\r\n     </g>\r\n     <g id=\"text_2\">\r\n      <!-- 100 -->\r\n      <g transform=\"translate(70.315274 239.238437)scale(0.1 -0.1)\">\r\n       <defs>\r\n        <path d=\"M 12.40625 8.296875 \r\nL 28.515625 8.296875 \r\nL 28.515625 63.921875 \r\nL 10.984375 60.40625 \r\nL 10.984375 69.390625 \r\nL 28.421875 72.90625 \r\nL 38.28125 72.90625 \r\nL 38.28125 8.296875 \r\nL 54.390625 8.296875 \r\nL 54.390625 0 \r\nL 12.40625 0 \r\nz\r\n\" id=\"DejaVuSans-49\"/>\r\n       </defs>\r\n       <use xlink:href=\"#DejaVuSans-49\"/>\r\n       <use x=\"63.623047\" xlink:href=\"#DejaVuSans-48\"/>\r\n       <use x=\"127.246094\" xlink:href=\"#DejaVuSans-48\"/>\r\n      </g>\r\n     </g>\r\n    </g>\r\n    <g id=\"xtick_3\">\r\n     <g id=\"line2d_5\">\r\n      <path clip-path=\"url(#p7be9556a61)\" d=\"M 123.031171 224.64 \r\nL 123.031171 7.2 \r\n\" style=\"fill:none;stroke:#b0b0b0;stroke-linecap:square;stroke-width:0.8;\"/>\r\n     </g>\r\n     <g id=\"line2d_6\">\r\n      <g>\r\n       <use style=\"stroke:#000000;stroke-width:0.8;\" x=\"123.031171\" xlink:href=\"#m655a2eb90c\" y=\"224.64\"/>\r\n      </g>\r\n     </g>\r\n     <g id=\"text_3\">\r\n      <!-- 120 -->\r\n      <g transform=\"translate(113.487421 239.238437)scale(0.1 -0.1)\">\r\n       <defs>\r\n        <path d=\"M 19.1875 8.296875 \r\nL 53.609375 8.296875 \r\nL 53.609375 0 \r\nL 7.328125 0 \r\nL 7.328125 8.296875 \r\nQ 12.9375 14.109375 22.625 23.890625 \r\nQ 32.328125 33.6875 34.8125 36.53125 \r\nQ 39.546875 41.84375 41.421875 45.53125 \r\nQ 43.3125 49.21875 43.3125 52.78125 \r\nQ 43.3125 58.59375 39.234375 62.25 \r\nQ 35.15625 65.921875 28.609375 65.921875 \r\nQ 23.96875 65.921875 18.8125 64.3125 \r\nQ 13.671875 62.703125 7.8125 59.421875 \r\nL 7.8125 69.390625 \r\nQ 13.765625 71.78125 18.9375 73 \r\nQ 24.125 74.21875 28.421875 74.21875 \r\nQ 39.75 74.21875 46.484375 68.546875 \r\nQ 53.21875 62.890625 53.21875 53.421875 \r\nQ 53.21875 48.921875 51.53125 44.890625 \r\nQ 49.859375 40.875 45.40625 35.40625 \r\nQ 44.1875 33.984375 37.640625 27.21875 \r\nQ 31.109375 20.453125 19.1875 8.296875 \r\nz\r\n\" id=\"DejaVuSans-50\"/>\r\n       </defs>\r\n       <use xlink:href=\"#DejaVuSans-49\"/>\r\n       <use x=\"63.623047\" xlink:href=\"#DejaVuSans-50\"/>\r\n       <use x=\"127.246094\" xlink:href=\"#DejaVuSans-48\"/>\r\n      </g>\r\n     </g>\r\n    </g>\r\n    <g id=\"xtick_4\">\r\n     <g id=\"line2d_7\">\r\n      <path clip-path=\"url(#p7be9556a61)\" d=\"M 166.203318 224.64 \r\nL 166.203318 7.2 \r\n\" style=\"fill:none;stroke:#b0b0b0;stroke-linecap:square;stroke-width:0.8;\"/>\r\n     </g>\r\n     <g id=\"line2d_8\">\r\n      <g>\r\n       <use style=\"stroke:#000000;stroke-width:0.8;\" x=\"166.203318\" xlink:href=\"#m655a2eb90c\" y=\"224.64\"/>\r\n      </g>\r\n     </g>\r\n     <g id=\"text_4\">\r\n      <!-- 140 -->\r\n      <g transform=\"translate(156.659568 239.238437)scale(0.1 -0.1)\">\r\n       <defs>\r\n        <path d=\"M 37.796875 64.3125 \r\nL 12.890625 25.390625 \r\nL 37.796875 25.390625 \r\nz\r\nM 35.203125 72.90625 \r\nL 47.609375 72.90625 \r\nL 47.609375 25.390625 \r\nL 58.015625 25.390625 \r\nL 58.015625 17.1875 \r\nL 47.609375 17.1875 \r\nL 47.609375 0 \r\nL 37.796875 0 \r\nL 37.796875 17.1875 \r\nL 4.890625 17.1875 \r\nL 4.890625 26.703125 \r\nz\r\n\" id=\"DejaVuSans-52\"/>\r\n       </defs>\r\n       <use xlink:href=\"#DejaVuSans-49\"/>\r\n       <use x=\"63.623047\" xlink:href=\"#DejaVuSans-52\"/>\r\n       <use x=\"127.246094\" xlink:href=\"#DejaVuSans-48\"/>\r\n      </g>\r\n     </g>\r\n    </g>\r\n    <g id=\"xtick_5\">\r\n     <g id=\"line2d_9\">\r\n      <path clip-path=\"url(#p7be9556a61)\" d=\"M 209.375465 224.64 \r\nL 209.375465 7.2 \r\n\" style=\"fill:none;stroke:#b0b0b0;stroke-linecap:square;stroke-width:0.8;\"/>\r\n     </g>\r\n     <g id=\"line2d_10\">\r\n      <g>\r\n       <use style=\"stroke:#000000;stroke-width:0.8;\" x=\"209.375465\" xlink:href=\"#m655a2eb90c\" y=\"224.64\"/>\r\n      </g>\r\n     </g>\r\n     <g id=\"text_5\">\r\n      <!-- 160 -->\r\n      <g transform=\"translate(199.831715 239.238437)scale(0.1 -0.1)\">\r\n       <defs>\r\n        <path d=\"M 33.015625 40.375 \r\nQ 26.375 40.375 22.484375 35.828125 \r\nQ 18.609375 31.296875 18.609375 23.390625 \r\nQ 18.609375 15.53125 22.484375 10.953125 \r\nQ 26.375 6.390625 33.015625 6.390625 \r\nQ 39.65625 6.390625 43.53125 10.953125 \r\nQ 47.40625 15.53125 47.40625 23.390625 \r\nQ 47.40625 31.296875 43.53125 35.828125 \r\nQ 39.65625 40.375 33.015625 40.375 \r\nz\r\nM 52.59375 71.296875 \r\nL 52.59375 62.3125 \r\nQ 48.875 64.0625 45.09375 64.984375 \r\nQ 41.3125 65.921875 37.59375 65.921875 \r\nQ 27.828125 65.921875 22.671875 59.328125 \r\nQ 17.53125 52.734375 16.796875 39.40625 \r\nQ 19.671875 43.65625 24.015625 45.921875 \r\nQ 28.375 48.1875 33.59375 48.1875 \r\nQ 44.578125 48.1875 50.953125 41.515625 \r\nQ 57.328125 34.859375 57.328125 23.390625 \r\nQ 57.328125 12.15625 50.6875 5.359375 \r\nQ 44.046875 -1.421875 33.015625 -1.421875 \r\nQ 20.359375 -1.421875 13.671875 8.265625 \r\nQ 6.984375 17.96875 6.984375 36.375 \r\nQ 6.984375 53.65625 15.1875 63.9375 \r\nQ 23.390625 74.21875 37.203125 74.21875 \r\nQ 40.921875 74.21875 44.703125 73.484375 \r\nQ 48.484375 72.75 52.59375 71.296875 \r\nz\r\n\" id=\"DejaVuSans-54\"/>\r\n       </defs>\r\n       <use xlink:href=\"#DejaVuSans-49\"/>\r\n       <use x=\"63.623047\" xlink:href=\"#DejaVuSans-54\"/>\r\n       <use x=\"127.246094\" xlink:href=\"#DejaVuSans-48\"/>\r\n      </g>\r\n     </g>\r\n    </g>\r\n    <g id=\"xtick_6\">\r\n     <g id=\"line2d_11\">\r\n      <path clip-path=\"url(#p7be9556a61)\" d=\"M 252.547612 224.64 \r\nL 252.547612 7.2 \r\n\" style=\"fill:none;stroke:#b0b0b0;stroke-linecap:square;stroke-width:0.8;\"/>\r\n     </g>\r\n     <g id=\"line2d_12\">\r\n      <g>\r\n       <use style=\"stroke:#000000;stroke-width:0.8;\" x=\"252.547612\" xlink:href=\"#m655a2eb90c\" y=\"224.64\"/>\r\n      </g>\r\n     </g>\r\n     <g id=\"text_6\">\r\n      <!-- 180 -->\r\n      <g transform=\"translate(243.003862 239.238437)scale(0.1 -0.1)\">\r\n       <use xlink:href=\"#DejaVuSans-49\"/>\r\n       <use x=\"63.623047\" xlink:href=\"#DejaVuSans-56\"/>\r\n       <use x=\"127.246094\" xlink:href=\"#DejaVuSans-48\"/>\r\n      </g>\r\n     </g>\r\n    </g>\r\n    <g id=\"xtick_7\">\r\n     <g id=\"line2d_13\">\r\n      <path clip-path=\"url(#p7be9556a61)\" d=\"M 295.719759 224.64 \r\nL 295.719759 7.2 \r\n\" style=\"fill:none;stroke:#b0b0b0;stroke-linecap:square;stroke-width:0.8;\"/>\r\n     </g>\r\n     <g id=\"line2d_14\">\r\n      <g>\r\n       <use style=\"stroke:#000000;stroke-width:0.8;\" x=\"295.719759\" xlink:href=\"#m655a2eb90c\" y=\"224.64\"/>\r\n      </g>\r\n     </g>\r\n     <g id=\"text_7\">\r\n      <!-- 200 -->\r\n      <g transform=\"translate(286.176009 239.238437)scale(0.1 -0.1)\">\r\n       <use xlink:href=\"#DejaVuSans-50\"/>\r\n       <use x=\"63.623047\" xlink:href=\"#DejaVuSans-48\"/>\r\n       <use x=\"127.246094\" xlink:href=\"#DejaVuSans-48\"/>\r\n      </g>\r\n     </g>\r\n    </g>\r\n    <g id=\"xtick_8\">\r\n     <g id=\"line2d_15\">\r\n      <path clip-path=\"url(#p7be9556a61)\" d=\"M 338.891906 224.64 \r\nL 338.891906 7.2 \r\n\" style=\"fill:none;stroke:#b0b0b0;stroke-linecap:square;stroke-width:0.8;\"/>\r\n     </g>\r\n     <g id=\"line2d_16\">\r\n      <g>\r\n       <use style=\"stroke:#000000;stroke-width:0.8;\" x=\"338.891906\" xlink:href=\"#m655a2eb90c\" y=\"224.64\"/>\r\n      </g>\r\n     </g>\r\n     <g id=\"text_8\">\r\n      <!-- 220 -->\r\n      <g transform=\"translate(329.348156 239.238437)scale(0.1 -0.1)\">\r\n       <use xlink:href=\"#DejaVuSans-50\"/>\r\n       <use x=\"63.623047\" xlink:href=\"#DejaVuSans-50\"/>\r\n       <use x=\"127.246094\" xlink:href=\"#DejaVuSans-48\"/>\r\n      </g>\r\n     </g>\r\n    </g>\r\n   </g>\r\n   <g id=\"matplotlib.axis_2\">\r\n    <g id=\"ytick_1\">\r\n     <g id=\"line2d_17\">\r\n      <path clip-path=\"url(#p7be9556a61)\" d=\"M 30.103125 224.64 \r\nL 364.903125 224.64 \r\n\" style=\"fill:none;stroke:#b0b0b0;stroke-linecap:square;stroke-width:0.8;\"/>\r\n     </g>\r\n     <g id=\"line2d_18\">\r\n      <defs>\r\n       <path d=\"M 0 0 \r\nL -3.5 0 \r\n\" id=\"mff4943aa98\" style=\"stroke:#000000;stroke-width:0.8;\"/>\r\n      </defs>\r\n      <g>\r\n       <use style=\"stroke:#000000;stroke-width:0.8;\" x=\"30.103125\" xlink:href=\"#mff4943aa98\" y=\"224.64\"/>\r\n      </g>\r\n     </g>\r\n     <g id=\"text_9\">\r\n      <!-- 0.0 -->\r\n      <g transform=\"translate(7.2 228.439219)scale(0.1 -0.1)\">\r\n       <defs>\r\n        <path d=\"M 10.6875 12.40625 \r\nL 21 12.40625 \r\nL 21 0 \r\nL 10.6875 0 \r\nz\r\n\" id=\"DejaVuSans-46\"/>\r\n       </defs>\r\n       <use xlink:href=\"#DejaVuSans-48\"/>\r\n       <use x=\"63.623047\" xlink:href=\"#DejaVuSans-46\"/>\r\n       <use x=\"95.410156\" xlink:href=\"#DejaVuSans-48\"/>\r\n      </g>\r\n     </g>\r\n    </g>\r\n    <g id=\"ytick_2\">\r\n     <g id=\"line2d_19\">\r\n      <path clip-path=\"url(#p7be9556a61)\" d=\"M 30.103125 198.754286 \r\nL 364.903125 198.754286 \r\n\" style=\"fill:none;stroke:#b0b0b0;stroke-linecap:square;stroke-width:0.8;\"/>\r\n     </g>\r\n     <g id=\"line2d_20\">\r\n      <g>\r\n       <use style=\"stroke:#000000;stroke-width:0.8;\" x=\"30.103125\" xlink:href=\"#mff4943aa98\" y=\"198.754286\"/>\r\n      </g>\r\n     </g>\r\n     <g id=\"text_10\">\r\n      <!-- 0.5 -->\r\n      <g transform=\"translate(7.2 202.553504)scale(0.1 -0.1)\">\r\n       <defs>\r\n        <path d=\"M 10.796875 72.90625 \r\nL 49.515625 72.90625 \r\nL 49.515625 64.59375 \r\nL 19.828125 64.59375 \r\nL 19.828125 46.734375 \r\nQ 21.96875 47.46875 24.109375 47.828125 \r\nQ 26.265625 48.1875 28.421875 48.1875 \r\nQ 40.625 48.1875 47.75 41.5 \r\nQ 54.890625 34.8125 54.890625 23.390625 \r\nQ 54.890625 11.625 47.5625 5.09375 \r\nQ 40.234375 -1.421875 26.90625 -1.421875 \r\nQ 22.3125 -1.421875 17.546875 -0.640625 \r\nQ 12.796875 0.140625 7.71875 1.703125 \r\nL 7.71875 11.625 \r\nQ 12.109375 9.234375 16.796875 8.0625 \r\nQ 21.484375 6.890625 26.703125 6.890625 \r\nQ 35.15625 6.890625 40.078125 11.328125 \r\nQ 45.015625 15.765625 45.015625 23.390625 \r\nQ 45.015625 31 40.078125 35.4375 \r\nQ 35.15625 39.890625 26.703125 39.890625 \r\nQ 22.75 39.890625 18.8125 39.015625 \r\nQ 14.890625 38.140625 10.796875 36.28125 \r\nz\r\n\" id=\"DejaVuSans-53\"/>\r\n       </defs>\r\n       <use xlink:href=\"#DejaVuSans-48\"/>\r\n       <use x=\"63.623047\" xlink:href=\"#DejaVuSans-46\"/>\r\n       <use x=\"95.410156\" xlink:href=\"#DejaVuSans-53\"/>\r\n      </g>\r\n     </g>\r\n    </g>\r\n    <g id=\"ytick_3\">\r\n     <g id=\"line2d_21\">\r\n      <path clip-path=\"url(#p7be9556a61)\" d=\"M 30.103125 172.868571 \r\nL 364.903125 172.868571 \r\n\" style=\"fill:none;stroke:#b0b0b0;stroke-linecap:square;stroke-width:0.8;\"/>\r\n     </g>\r\n     <g id=\"line2d_22\">\r\n      <g>\r\n       <use style=\"stroke:#000000;stroke-width:0.8;\" x=\"30.103125\" xlink:href=\"#mff4943aa98\" y=\"172.868571\"/>\r\n      </g>\r\n     </g>\r\n     <g id=\"text_11\">\r\n      <!-- 1.0 -->\r\n      <g transform=\"translate(7.2 176.66779)scale(0.1 -0.1)\">\r\n       <use xlink:href=\"#DejaVuSans-49\"/>\r\n       <use x=\"63.623047\" xlink:href=\"#DejaVuSans-46\"/>\r\n       <use x=\"95.410156\" xlink:href=\"#DejaVuSans-48\"/>\r\n      </g>\r\n     </g>\r\n    </g>\r\n    <g id=\"ytick_4\">\r\n     <g id=\"line2d_23\">\r\n      <path clip-path=\"url(#p7be9556a61)\" d=\"M 30.103125 146.982857 \r\nL 364.903125 146.982857 \r\n\" style=\"fill:none;stroke:#b0b0b0;stroke-linecap:square;stroke-width:0.8;\"/>\r\n     </g>\r\n     <g id=\"line2d_24\">\r\n      <g>\r\n       <use style=\"stroke:#000000;stroke-width:0.8;\" x=\"30.103125\" xlink:href=\"#mff4943aa98\" y=\"146.982857\"/>\r\n      </g>\r\n     </g>\r\n     <g id=\"text_12\">\r\n      <!-- 1.5 -->\r\n      <g transform=\"translate(7.2 150.782076)scale(0.1 -0.1)\">\r\n       <use xlink:href=\"#DejaVuSans-49\"/>\r\n       <use x=\"63.623047\" xlink:href=\"#DejaVuSans-46\"/>\r\n       <use x=\"95.410156\" xlink:href=\"#DejaVuSans-53\"/>\r\n      </g>\r\n     </g>\r\n    </g>\r\n    <g id=\"ytick_5\">\r\n     <g id=\"line2d_25\">\r\n      <path clip-path=\"url(#p7be9556a61)\" d=\"M 30.103125 121.097143 \r\nL 364.903125 121.097143 \r\n\" style=\"fill:none;stroke:#b0b0b0;stroke-linecap:square;stroke-width:0.8;\"/>\r\n     </g>\r\n     <g id=\"line2d_26\">\r\n      <g>\r\n       <use style=\"stroke:#000000;stroke-width:0.8;\" x=\"30.103125\" xlink:href=\"#mff4943aa98\" y=\"121.097143\"/>\r\n      </g>\r\n     </g>\r\n     <g id=\"text_13\">\r\n      <!-- 2.0 -->\r\n      <g transform=\"translate(7.2 124.896362)scale(0.1 -0.1)\">\r\n       <use xlink:href=\"#DejaVuSans-50\"/>\r\n       <use x=\"63.623047\" xlink:href=\"#DejaVuSans-46\"/>\r\n       <use x=\"95.410156\" xlink:href=\"#DejaVuSans-48\"/>\r\n      </g>\r\n     </g>\r\n    </g>\r\n    <g id=\"ytick_6\">\r\n     <g id=\"line2d_27\">\r\n      <path clip-path=\"url(#p7be9556a61)\" d=\"M 30.103125 95.211429 \r\nL 364.903125 95.211429 \r\n\" style=\"fill:none;stroke:#b0b0b0;stroke-linecap:square;stroke-width:0.8;\"/>\r\n     </g>\r\n     <g id=\"line2d_28\">\r\n      <g>\r\n       <use style=\"stroke:#000000;stroke-width:0.8;\" x=\"30.103125\" xlink:href=\"#mff4943aa98\" y=\"95.211429\"/>\r\n      </g>\r\n     </g>\r\n     <g id=\"text_14\">\r\n      <!-- 2.5 -->\r\n      <g transform=\"translate(7.2 99.010647)scale(0.1 -0.1)\">\r\n       <use xlink:href=\"#DejaVuSans-50\"/>\r\n       <use x=\"63.623047\" xlink:href=\"#DejaVuSans-46\"/>\r\n       <use x=\"95.410156\" xlink:href=\"#DejaVuSans-53\"/>\r\n      </g>\r\n     </g>\r\n    </g>\r\n    <g id=\"ytick_7\">\r\n     <g id=\"line2d_29\">\r\n      <path clip-path=\"url(#p7be9556a61)\" d=\"M 30.103125 69.325714 \r\nL 364.903125 69.325714 \r\n\" style=\"fill:none;stroke:#b0b0b0;stroke-linecap:square;stroke-width:0.8;\"/>\r\n     </g>\r\n     <g id=\"line2d_30\">\r\n      <g>\r\n       <use style=\"stroke:#000000;stroke-width:0.8;\" x=\"30.103125\" xlink:href=\"#mff4943aa98\" y=\"69.325714\"/>\r\n      </g>\r\n     </g>\r\n     <g id=\"text_15\">\r\n      <!-- 3.0 -->\r\n      <g transform=\"translate(7.2 73.124933)scale(0.1 -0.1)\">\r\n       <defs>\r\n        <path d=\"M 40.578125 39.3125 \r\nQ 47.65625 37.796875 51.625 33 \r\nQ 55.609375 28.21875 55.609375 21.1875 \r\nQ 55.609375 10.40625 48.1875 4.484375 \r\nQ 40.765625 -1.421875 27.09375 -1.421875 \r\nQ 22.515625 -1.421875 17.65625 -0.515625 \r\nQ 12.796875 0.390625 7.625 2.203125 \r\nL 7.625 11.71875 \r\nQ 11.71875 9.328125 16.59375 8.109375 \r\nQ 21.484375 6.890625 26.8125 6.890625 \r\nQ 36.078125 6.890625 40.9375 10.546875 \r\nQ 45.796875 14.203125 45.796875 21.1875 \r\nQ 45.796875 27.640625 41.28125 31.265625 \r\nQ 36.765625 34.90625 28.71875 34.90625 \r\nL 20.21875 34.90625 \r\nL 20.21875 43.015625 \r\nL 29.109375 43.015625 \r\nQ 36.375 43.015625 40.234375 45.921875 \r\nQ 44.09375 48.828125 44.09375 54.296875 \r\nQ 44.09375 59.90625 40.109375 62.90625 \r\nQ 36.140625 65.921875 28.71875 65.921875 \r\nQ 24.65625 65.921875 20.015625 65.03125 \r\nQ 15.375 64.15625 9.8125 62.3125 \r\nL 9.8125 71.09375 \r\nQ 15.4375 72.65625 20.34375 73.4375 \r\nQ 25.25 74.21875 29.59375 74.21875 \r\nQ 40.828125 74.21875 47.359375 69.109375 \r\nQ 53.90625 64.015625 53.90625 55.328125 \r\nQ 53.90625 49.265625 50.4375 45.09375 \r\nQ 46.96875 40.921875 40.578125 39.3125 \r\nz\r\n\" id=\"DejaVuSans-51\"/>\r\n       </defs>\r\n       <use xlink:href=\"#DejaVuSans-51\"/>\r\n       <use x=\"63.623047\" xlink:href=\"#DejaVuSans-46\"/>\r\n       <use x=\"95.410156\" xlink:href=\"#DejaVuSans-48\"/>\r\n      </g>\r\n     </g>\r\n    </g>\r\n    <g id=\"ytick_8\">\r\n     <g id=\"line2d_31\">\r\n      <path clip-path=\"url(#p7be9556a61)\" d=\"M 30.103125 43.44 \r\nL 364.903125 43.44 \r\n\" style=\"fill:none;stroke:#b0b0b0;stroke-linecap:square;stroke-width:0.8;\"/>\r\n     </g>\r\n     <g id=\"line2d_32\">\r\n      <g>\r\n       <use style=\"stroke:#000000;stroke-width:0.8;\" x=\"30.103125\" xlink:href=\"#mff4943aa98\" y=\"43.44\"/>\r\n      </g>\r\n     </g>\r\n     <g id=\"text_16\">\r\n      <!-- 3.5 -->\r\n      <g transform=\"translate(7.2 47.239219)scale(0.1 -0.1)\">\r\n       <use xlink:href=\"#DejaVuSans-51\"/>\r\n       <use x=\"63.623047\" xlink:href=\"#DejaVuSans-46\"/>\r\n       <use x=\"95.410156\" xlink:href=\"#DejaVuSans-53\"/>\r\n      </g>\r\n     </g>\r\n    </g>\r\n    <g id=\"ytick_9\">\r\n     <g id=\"line2d_33\">\r\n      <path clip-path=\"url(#p7be9556a61)\" d=\"M 30.103125 17.554286 \r\nL 364.903125 17.554286 \r\n\" style=\"fill:none;stroke:#b0b0b0;stroke-linecap:square;stroke-width:0.8;\"/>\r\n     </g>\r\n     <g id=\"line2d_34\">\r\n      <g>\r\n       <use style=\"stroke:#000000;stroke-width:0.8;\" x=\"30.103125\" xlink:href=\"#mff4943aa98\" y=\"17.554286\"/>\r\n      </g>\r\n     </g>\r\n     <g id=\"text_17\">\r\n      <!-- 4.0 -->\r\n      <g transform=\"translate(7.2 21.353504)scale(0.1 -0.1)\">\r\n       <use xlink:href=\"#DejaVuSans-52\"/>\r\n       <use x=\"63.623047\" xlink:href=\"#DejaVuSans-46\"/>\r\n       <use x=\"95.410156\" xlink:href=\"#DejaVuSans-48\"/>\r\n      </g>\r\n     </g>\r\n    </g>\r\n   </g>\r\n   <g id=\"patch_33\">\r\n    <path d=\"M 30.103125 224.64 \r\nL 30.103125 7.2 \r\n\" style=\"fill:none;stroke:#000000;stroke-linecap:square;stroke-linejoin:miter;stroke-width:0.8;\"/>\r\n   </g>\r\n   <g id=\"patch_34\">\r\n    <path d=\"M 364.903125 224.64 \r\nL 364.903125 7.2 \r\n\" style=\"fill:none;stroke:#000000;stroke-linecap:square;stroke-linejoin:miter;stroke-width:0.8;\"/>\r\n   </g>\r\n   <g id=\"patch_35\">\r\n    <path d=\"M 30.103125 224.64 \r\nL 364.903125 224.64 \r\n\" style=\"fill:none;stroke:#000000;stroke-linecap:square;stroke-linejoin:miter;stroke-width:0.8;\"/>\r\n   </g>\r\n   <g id=\"patch_36\">\r\n    <path d=\"M 30.103125 7.2 \r\nL 364.903125 7.2 \r\n\" style=\"fill:none;stroke:#000000;stroke-linecap:square;stroke-linejoin:miter;stroke-width:0.8;\"/>\r\n   </g>\r\n  </g>\r\n </g>\r\n <defs>\r\n  <clipPath id=\"p7be9556a61\">\r\n   <rect height=\"217.44\" width=\"334.8\" x=\"30.103125\" y=\"7.2\"/>\r\n  </clipPath>\r\n </defs>\r\n</svg>\r\n",
      "image/png": "[encoded data removed]"
     },
     "metadata": {
      "needs_background": "light"
     }
    }
   ],
   "source": [
    "history_movies['runtime'].hist(bins=30)"
   ]
  },
  {
   "cell_type": "code",
   "execution_count": null,
   "metadata": {},
   "outputs": [],
   "source": []
  }
 ]
}